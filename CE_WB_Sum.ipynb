{
 "cells": [
  {
   "cell_type": "markdown",
   "metadata": {},
   "source": [
    "## Worst & Best Summaries\n"
   ]
  },
  {
   "cell_type": "code",
   "execution_count": null,
   "metadata": {
    "collapsed": true
   },
   "outputs": [],
   "source": [
    "# Have monthly summaries, and good and bad summaries. "
   ]
  },
  {
   "cell_type": "code",
   "execution_count": 1,
   "metadata": {},
   "outputs": [
    {
     "name": "stdout",
     "output_type": "stream",
     "text": [
      "/bin/sh: free: command not found\r\n"
     ]
    }
   ],
   "source": [
    "# Library Packages \n",
    "import regex as re\n",
    "import itertools as it\n",
    "import spacy\n",
    "\n",
    "%run libraries.py \n",
    "from __future__ import division\n",
    "\n",
    "# Settings \n",
    "pd.set_option('display.max_columns', None)\n",
    "pd.set_option('display.max_rows', None)\n",
    "seed = 7\n",
    "np.random.seed(seed)\n",
    "\n",
    "import warnings\n",
    "warnings.filterwarnings('ignore')\n",
    "\n",
    "def front(self, n):\n",
    "    return self.iloc[:, :n]\n",
    "\n",
    "def back(self, n):\n",
    "    return self.iloc[:, -n:]\n",
    "\n",
    "# Like normalization, standardization can be useful, and even required in some\n",
    "# machine learning algorithms when your time series data has input values with differing scales.\n",
    "\n",
    "from sklearn.preprocessing import StandardScaler\n",
    "\n",
    "def Standardisation(df):\n",
    "    listed = list(df)\n",
    "    scaler = StandardScaler()\n",
    "    scaled = scaler.fit_transform(df)\n",
    "    df = pd.DataFrame(scaled)\n",
    "    df.columns = listed\n",
    "    return df\n",
    "\n",
    "\n",
    "\n",
    "np.set_printoptions(threshold=np.nan)\n",
    "\n",
    "!free -h"
   ]
  },
  {
   "cell_type": "code",
   "execution_count": 2,
   "metadata": {},
   "outputs": [],
   "source": [
    "yelp = pd.read_csv(\"bjs-restaurant-sanbruno.csv\")\n",
    "\n",
    "yelp[\"date\"] = yelp[\"date\"].apply(lambda x: x[:10])\n",
    "yelp[\"date\"] = yelp[\"date\"].apply(lambda x: x[:-1] if x[-1]==\"\\\\\" else x )\n",
    "yelp[\"date\"] = yelp[\"date\"].apply(lambda x: x[:-2] if x[-1]==\"n\" else x )\n",
    "\n",
    "from datetime import datetime\n",
    "from dateutil.parser import parse\n",
    "\n",
    "yelp['date'] = yelp['date'].apply(lambda x: parse(x))"
   ]
  },
  {
   "cell_type": "code",
   "execution_count": 5,
   "metadata": {},
   "outputs": [
    {
     "data": {
      "text/html": [
       "<div>\n",
       "<style>\n",
       "    .dataframe thead tr:only-child th {\n",
       "        text-align: right;\n",
       "    }\n",
       "\n",
       "    .dataframe thead th {\n",
       "        text-align: left;\n",
       "    }\n",
       "\n",
       "    .dataframe tbody tr th {\n",
       "        vertical-align: top;\n",
       "    }\n",
       "</style>\n",
       "<table border=\"1\" class=\"dataframe\">\n",
       "  <thead>\n",
       "    <tr style=\"text-align: right;\">\n",
       "      <th></th>\n",
       "      <th>Username</th>\n",
       "      <th>location</th>\n",
       "      <th>friend_count</th>\n",
       "      <th>review_count</th>\n",
       "      <th>photo_count</th>\n",
       "      <th>date</th>\n",
       "      <th>rating</th>\n",
       "      <th>review</th>\n",
       "    </tr>\n",
       "  </thead>\n",
       "  <tbody>\n",
       "    <tr>\n",
       "      <th>0</th>\n",
       "      <td>Finau F.</td>\n",
       "      <td>Millbrae  CA</td>\n",
       "      <td>152</td>\n",
       "      <td>38</td>\n",
       "      <td>50.0</td>\n",
       "      <td>2017-09-15</td>\n",
       "      <td>3.0</td>\n",
       "      <td>This is definitely a place you can resort to i...</td>\n",
       "    </tr>\n",
       "    <tr>\n",
       "      <th>1</th>\n",
       "      <td>Tanya F.</td>\n",
       "      <td>Fairfield  CA</td>\n",
       "      <td>82</td>\n",
       "      <td>20</td>\n",
       "      <td>33.0</td>\n",
       "      <td>2017-09-10</td>\n",
       "      <td>1.0</td>\n",
       "      <td>Seriously the worst restaurant ever:Slow servi...</td>\n",
       "    </tr>\n",
       "    <tr>\n",
       "      <th>2</th>\n",
       "      <td>Michelle S.</td>\n",
       "      <td>San Francisco  CA</td>\n",
       "      <td>200</td>\n",
       "      <td>143</td>\n",
       "      <td>453.0</td>\n",
       "      <td>2017-09-09</td>\n",
       "      <td>2.0</td>\n",
       "      <td>Yikes.So the venue itself is cool. Nice decor ...</td>\n",
       "    </tr>\n",
       "    <tr>\n",
       "      <th>3</th>\n",
       "      <td>Danielle S.</td>\n",
       "      <td>Pacifica  CA</td>\n",
       "      <td>246</td>\n",
       "      <td>33</td>\n",
       "      <td>50.0</td>\n",
       "      <td>2017-08-31</td>\n",
       "      <td>4.0</td>\n",
       "      <td>Did you know that BJ's has a ton of promotions...</td>\n",
       "    </tr>\n",
       "    <tr>\n",
       "      <th>4</th>\n",
       "      <td>Teena N.</td>\n",
       "      <td>San Francisco  CA</td>\n",
       "      <td>35</td>\n",
       "      <td>235</td>\n",
       "      <td>1076.0</td>\n",
       "      <td>2017-08-26</td>\n",
       "      <td>3.0</td>\n",
       "      <td>Second time here  first time dining in. +Spina...</td>\n",
       "    </tr>\n",
       "  </tbody>\n",
       "</table>\n",
       "</div>"
      ],
      "text/plain": [
       "      Username           location  friend_count  review_count  photo_count  \\\n",
       "0     Finau F.       Millbrae  CA           152            38         50.0   \n",
       "1     Tanya F.      Fairfield  CA            82            20         33.0   \n",
       "2  Michelle S.  San Francisco  CA           200           143        453.0   \n",
       "3  Danielle S.       Pacifica  CA           246            33         50.0   \n",
       "4     Teena N.  San Francisco  CA            35           235       1076.0   \n",
       "\n",
       "        date  rating                                             review  \n",
       "0 2017-09-15     3.0  This is definitely a place you can resort to i...  \n",
       "1 2017-09-10     1.0  Seriously the worst restaurant ever:Slow servi...  \n",
       "2 2017-09-09     2.0  Yikes.So the venue itself is cool. Nice decor ...  \n",
       "3 2017-08-31     4.0  Did you know that BJ's has a ton of promotions...  \n",
       "4 2017-08-26     3.0  Second time here  first time dining in. +Spina...  "
      ]
     },
     "execution_count": 5,
     "metadata": {},
     "output_type": "execute_result"
    }
   ],
   "source": [
    "yelp.head()"
   ]
  },
  {
   "cell_type": "code",
   "execution_count": 10,
   "metadata": {},
   "outputs": [],
   "source": [
    "from nltk.sentiment.vader import SentimentIntensityAnalyzer as SIA\n",
    "\n",
    "yelp[\"positive\"] = 0\n",
    "yelp[\"compound\"] =  0.0\n",
    "yelp[\"negative\"] = 0\n",
    "yelp[\"neutral\"] =  0 \n",
    "\n",
    "analyzer = SIA()\n",
    "for sentence, row in zip(yelp[\"review\"], list(range(yelp.shape[0]))):\n",
    "    vs = analyzer.polarity_scores(sentence)\n",
    "    yelp[\"compound\"][row] = float(vs[\"compound\"])\n",
    "    if vs[\"compound\"] <-0.5:\n",
    "        yelp[\"negative\"][row] = 1\n",
    "    elif vs[\"compound\"] >0.5:\n",
    "        yelp[\"positive\"][row] = 1\n",
    "    else:\n",
    "        yelp[\"neutral\"][row] = 1\n",
    "    #print(\"{:-<65} {}\".format(sentence, str(vs)))"
   ]
  },
  {
   "cell_type": "code",
   "execution_count": 17,
   "metadata": {},
   "outputs": [],
   "source": [
    "worst = yelp[(yelp[\"rating\"]==1) & (yelp[\"compound\"]<-.95) ]\n",
    "worst = worst.sort_values(\"date\", ascending=False).head(10).reset_index()\n",
    "\n",
    "best = yelp[(yelp[\"rating\"]==5) & (yelp[\"compound\"]>.95) ]\n",
    "best = best.sort_values(\"date\", ascending=False).head(10).reset_index()"
   ]
  },
  {
   "cell_type": "code",
   "execution_count": null,
   "metadata": {
    "collapsed": true
   },
   "outputs": [],
   "source": [
    "# Entity Extraction From Review\n",
    "import itertools as it\n",
    "import spacy\n",
    "\n",
    "nlp = spacy.load('en')\n",
    "\n",
    "sample_review = \"\" \n",
    "for i in best[\"review\"]:\n",
    "    sample_review = sample_review + str(i)\n",
    "\n",
    "#print(sample_review)\n",
    "\n",
    "len(sample_review)\n",
    "\n",
    "sample_review = sample_review.replace(\"\\\\\", \"\")\n",
    "\n",
    "parsed_review = nlp(sample_review)"
   ]
  },
  {
   "cell_type": "code",
   "execution_count": 409,
   "metadata": {
    "collapsed": true
   },
   "outputs": [],
   "source": [
    "### Summaries \n",
    "import sumy \n",
    "\n",
    "from sumy.summarizers.lex_rank import LexRankSummarizer\n",
    "from sumy.summarizers.text_rank import TextRankSummarizer\n",
    "\n",
    "from sumy.parsers.plaintext import PlaintextParser\n",
    "from sumy.nlp.tokenizers import Tokenizer\n",
    "from sumy.nlp.stemmers import Stemmer\n",
    "from sumy.utils import get_stop_words\n",
    "\n",
    "lexi = LexRankSummarizer(Stemmer(\"english\"))\n",
    "texi = TextRankSummarizer(Stemmer(\"english\"))\n",
    "\n",
    "parser = PlaintextParser.from_string(sample_review, Tokenizer(\"english\"))\n",
    "\n",
    "lexi.stop_words = get_stop_words(\"english\")\n",
    "\n",
    "for sentence in lexi(parser.document, 10): #  This does indeed summarise the document\n",
    "                                           #  In 20 sentences. \n",
    "    print(sentence)\n",
    "\n",
    "texi = TextRankSummarizer(Stemmer(\"english\"))\n",
    "\n",
    "\n",
    "for sentence in texi(parser.document, 10): #  This does indeed summarise the document\n",
    "                                           #  In 20 sentences. \n",
    "print(sentence)"
   ]
  },
  {
   "cell_type": "code",
   "execution_count": 431,
   "metadata": {},
   "outputs": [
    {
     "name": "stdout",
     "output_type": "stream",
     "text": [
      "had i known about this service i wouldve reserved online.ordered our food and drinks  both of which came out in in a reasonble amount of time.\n",
      "food was good and overall experience was similar to the positive ones we've had here so i chalk up the last experience of one that was a flyer.\n",
      "The food was good  something for everyone  and Efraim stopped by to make sure everything was to our liking.\n",
      "Super service  great food.\n",
      "The food came.\n",
      "Wife and I pretty much only finished the prime rib items because there was so much food.\n",
      "We had a great time and delicious food.\n",
      "The food was perfect  modest portions and speedy service which always makes for a better evening.\n",
      "Debbie was spot on all night long  let us take our time looking over the menu  answered all questions quickly and well and was very complimentary towards everything .Ambiance at this local is pleasant  noise level is average  staff seems very efficient) food was good  prices decent.\n",
      "I always a great experience at Bjs!\n"
     ]
    }
   ],
   "source": [
    "texi.stop_words = get_stop_words(\"english\")\n",
    "#texi.stop_words = get_stop_words(\"english\")\n",
    "\n",
    "for sentence in texi(parser.document, 10): #  This does indeed summarise the document\n",
    "                                           #  In 20 sentences. \n",
    "    print(sentence)"
   ]
  },
  {
   "cell_type": "code",
   "execution_count": null,
   "metadata": {
    "collapsed": true
   },
   "outputs": [],
   "source": []
  },
  {
   "cell_type": "code",
   "execution_count": null,
   "metadata": {
    "collapsed": true
   },
   "outputs": [],
   "source": []
  },
  {
   "cell_type": "code",
   "execution_count": null,
   "metadata": {
    "collapsed": true
   },
   "outputs": [],
   "source": []
  },
  {
   "cell_type": "code",
   "execution_count": null,
   "metadata": {
    "collapsed": true
   },
   "outputs": [],
   "source": []
  },
  {
   "cell_type": "code",
   "execution_count": null,
   "metadata": {
    "collapsed": true
   },
   "outputs": [],
   "source": []
  }
 ],
 "metadata": {
  "kernelspec": {
   "display_name": "py36",
   "language": "python",
   "name": "py36"
  },
  "language_info": {
   "codemirror_mode": {
    "name": "ipython",
    "version": 3
   },
   "file_extension": ".py",
   "mimetype": "text/x-python",
   "name": "python",
   "nbconvert_exporter": "python",
   "pygments_lexer": "ipython3",
   "version": "3.6.3"
  }
 },
 "nbformat": 4,
 "nbformat_minor": 2
}
