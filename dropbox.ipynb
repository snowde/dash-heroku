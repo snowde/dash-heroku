{
 "cells": [
  {
   "cell_type": "code",
   "execution_count": 7,
   "metadata": {
    "collapsed": false
   },
   "outputs": [],
   "source": [
    "\n",
    "import pandas as pd\n",
    "\n",
    "def db_frame(url):\n",
    "    \n",
    "    url = url.replace(\"dl=0\", \"dl=1\")   # dl=1 is important\n",
    "    \n",
    "    import urllib.request\n",
    "    u = urllib.request.urlopen(url)\n",
    "    data = u.read()\n",
    "    u.close()\n",
    "    \n",
    "    \n",
    "    \n",
    "    def find_between_r( s, first, last ):\n",
    "        try:\n",
    "            start = s.rindex( first ) + len( first )\n",
    "            end = s.rindex( last, start )\n",
    "            return s[start:end]\n",
    "        except ValueError:\n",
    "            return \"\"\n",
    "    \n",
    "    filename =  find_between_r( string, \"/\", \"?\" )\n",
    "    \n",
    "     \n",
    "    with open(filename, \"wb\") as f :\n",
    "        f.write(data)\n",
    "    \n",
    "    ff = pd.read_excel(filename)\n",
    "    return ff\n",
    "    \n",
    "\n"
   ]
  },
  {
   "cell_type": "code",
   "execution_count": 9,
   "metadata": {},
   "outputs": [],
   "source": [
    "metrics = db_frame(\"https://www.dropbox.com/s/h3wmn9jfy4ua241/metrics.xlsx?dl=0\")"
   ]
  },
  {
   "cell_type": "code",
   "execution_count": 10,
   "metadata": {},
   "outputs": [
    {
     "data": {
      "text/html": [
       "<div>\n",
       "<style>\n",
       "    .dataframe thead tr:only-child th {\n",
       "        text-align: right;\n",
       "    }\n",
       "\n",
       "    .dataframe thead th {\n",
       "        text-align: left;\n",
       "    }\n",
       "\n",
       "    .dataframe tbody tr th {\n",
       "        vertical-align: top;\n",
       "    }\n",
       "</style>\n",
       "<table border=\"1\" class=\"dataframe\">\n",
       "  <thead>\n",
       "    <tr style=\"text-align: right;\">\n",
       "      <th></th>\n",
       "      <th>col</th>\n",
       "      <th>1</th>\n",
       "      <th>2</th>\n",
       "      <th>3</th>\n",
       "      <th>4</th>\n",
       "    </tr>\n",
       "  </thead>\n",
       "  <tbody>\n",
       "    <tr>\n",
       "      <th>0</th>\n",
       "      <td>Type</td>\n",
       "      <td>E</td>\n",
       "      <td>C</td>\n",
       "      <td>S</td>\n",
       "      <td>A</td>\n",
       "    </tr>\n",
       "    <tr>\n",
       "      <th>1</th>\n",
       "      <td>Rating</td>\n",
       "      <td>5</td>\n",
       "      <td>5</td>\n",
       "      <td>5</td>\n",
       "      <td>5</td>\n",
       "    </tr>\n",
       "  </tbody>\n",
       "</table>\n",
       "</div>"
      ],
      "text/plain": [
       "<div>\n",
       "<style>\n",
       "    .dataframe thead tr:only-child th {\n",
       "        text-align: right;\n",
       "    }\n",
       "\n",
       "    .dataframe thead th {\n",
       "        text-align: left;\n",
       "    }\n",
       "\n",
       "    .dataframe tbody tr th {\n",
       "        vertical-align: top;\n",
       "    }\n",
       "</style>\n",
       "<table border=\"1\" class=\"dataframe\">\n",
       "  <thead>\n",
       "    <tr style=\"text-align: right;\">\n",
       "      <th></th>\n",
       "      <th>col</th>\n",
       "      <th>1</th>\n",
       "      <th>2</th>\n",
       "      <th>3</th>\n",
       "      <th>4</th>\n",
       "    </tr>\n",
       "  </thead>\n",
       "  <tbody>\n",
       "    <tr>\n",
       "      <th>0</th>\n",
       "      <td>Type</td>\n",
       "      <td>E</td>\n",
       "      <td>C</td>\n",
       "      <td>S</td>\n",
       "      <td>A</td>\n",
       "    </tr>\n",
       "    <tr>\n",
       "      <th>1</th>\n",
       "      <td>Rating</td>\n",
       "      <td>5</td>\n",
       "      <td>5</td>\n",
       "      <td>5</td>\n",
       "      <td>5</td>\n",
       "    </tr>\n",
       "  </tbody>\n",
       "</table>\n",
       "</div>"
      ]
     },
     "execution_count": 10,
     "metadata": {},
     "output_type": "execute_result"
    }
   ],
   "source": [
    "metrics.head()"
   ]
  },
  {
   "cell_type": "code",
   "execution_count": 5,
   "metadata": {},
   "outputs": [
    {
     "data": {
      "text/html": [
       "<div>\n",
       "<style>\n",
       "    .dataframe thead tr:only-child th {\n",
       "        text-align: right;\n",
       "    }\n",
       "\n",
       "    .dataframe thead th {\n",
       "        text-align: left;\n",
       "    }\n",
       "\n",
       "    .dataframe tbody tr th {\n",
       "        vertical-align: top;\n",
       "    }\n",
       "</style>\n",
       "<table border=\"1\" class=\"dataframe\">\n",
       "  <thead>\n",
       "    <tr style=\"text-align: right;\">\n",
       "      <th></th>\n",
       "      <th>col</th>\n",
       "      <th>1</th>\n",
       "      <th>2</th>\n",
       "      <th>3</th>\n",
       "      <th>4</th>\n",
       "    </tr>\n",
       "  </thead>\n",
       "  <tbody>\n",
       "    <tr>\n",
       "      <th>0</th>\n",
       "      <td>Type</td>\n",
       "      <td>E</td>\n",
       "      <td>C</td>\n",
       "      <td>S</td>\n",
       "      <td>A</td>\n",
       "    </tr>\n",
       "    <tr>\n",
       "      <th>1</th>\n",
       "      <td>Rating</td>\n",
       "      <td>5</td>\n",
       "      <td>5</td>\n",
       "      <td>5</td>\n",
       "      <td>5</td>\n",
       "    </tr>\n",
       "  </tbody>\n",
       "</table>\n",
       "</div>"
      ],
      "text/plain": [
       "<div>\n",
       "<style>\n",
       "    .dataframe thead tr:only-child th {\n",
       "        text-align: right;\n",
       "    }\n",
       "\n",
       "    .dataframe thead th {\n",
       "        text-align: left;\n",
       "    }\n",
       "\n",
       "    .dataframe tbody tr th {\n",
       "        vertical-align: top;\n",
       "    }\n",
       "</style>\n",
       "<table border=\"1\" class=\"dataframe\">\n",
       "  <thead>\n",
       "    <tr style=\"text-align: right;\">\n",
       "      <th></th>\n",
       "      <th>col</th>\n",
       "      <th>1</th>\n",
       "      <th>2</th>\n",
       "      <th>3</th>\n",
       "      <th>4</th>\n",
       "    </tr>\n",
       "  </thead>\n",
       "  <tbody>\n",
       "    <tr>\n",
       "      <th>0</th>\n",
       "      <td>Type</td>\n",
       "      <td>E</td>\n",
       "      <td>C</td>\n",
       "      <td>S</td>\n",
       "      <td>A</td>\n",
       "    </tr>\n",
       "    <tr>\n",
       "      <th>1</th>\n",
       "      <td>Rating</td>\n",
       "      <td>5</td>\n",
       "      <td>5</td>\n",
       "      <td>5</td>\n",
       "      <td>5</td>\n",
       "    </tr>\n",
       "  </tbody>\n",
       "</table>\n",
       "</div>"
      ]
     },
     "execution_count": 5,
     "metadata": {},
     "output_type": "execute_result"
    }
   ],
   "source": [
    "aff.head()\n",
    "\n"
   ]
  },
  {
   "cell_type": "code",
   "execution_count": 21,
   "metadata": {
    "collapsed": false
   },
   "outputs": [
    {
     "data": {
      "text/html": [
       "<div>\n",
       "<style>\n",
       "    .dataframe thead tr:only-child th {\n",
       "        text-align: right;\n",
       "    }\n",
       "\n",
       "    .dataframe thead th {\n",
       "        text-align: left;\n",
       "    }\n",
       "\n",
       "    .dataframe tbody tr th {\n",
       "        vertical-align: top;\n",
       "    }\n",
       "</style>\n",
       "<table border=\"1\" class=\"dataframe\">\n",
       "  <thead>\n",
       "    <tr style=\"text-align: right;\">\n",
       "      <th></th>\n",
       "      <th>Company</th>\n",
       "      <th>Place</th>\n",
       "      <th>State</th>\n",
       "      <th>ZIP</th>\n",
       "      <th>Glassdoor Name</th>\n",
       "      <th>Glassdoor internal ID</th>\n",
       "      <th>Overall Rating</th>\n",
       "      <th>Culture &amp; Values</th>\n",
       "      <th>Work/Life</th>\n",
       "      <th>Senior Management</th>\n",
       "      <th>Comp &amp; Benefits</th>\n",
       "      <th>Career Opportunities</th>\n",
       "      <th>Recommand</th>\n",
       "      <th>CEO Rating</th>\n",
       "      <th>Biz Outlook</th>\n",
       "    </tr>\n",
       "  </thead>\n",
       "  <tbody>\n",
       "    <tr>\n",
       "      <th>0</th>\n",
       "      <td>Walmart</td>\n",
       "      <td>Bentonville</td>\n",
       "      <td>Arkansas</td>\n",
       "      <td>72716</td>\n",
       "      <td>Walmart</td>\n",
       "      <td>715.0</td>\n",
       "      <td>3.0</td>\n",
       "      <td>3.0</td>\n",
       "      <td>2.1</td>\n",
       "      <td>2.1</td>\n",
       "      <td>3.0</td>\n",
       "      <td>3.0</td>\n",
       "      <td>56.0</td>\n",
       "      <td>68.0</td>\n",
       "      <td>46.0</td>\n",
       "    </tr>\n",
       "    <tr>\n",
       "      <th>1</th>\n",
       "      <td>Exxon Mobil</td>\n",
       "      <td>Irving</td>\n",
       "      <td>Texas</td>\n",
       "      <td>75039</td>\n",
       "      <td>ExxonMobil</td>\n",
       "      <td>237.0</td>\n",
       "      <td>3.1</td>\n",
       "      <td>3.1</td>\n",
       "      <td>3.1</td>\n",
       "      <td>3.0</td>\n",
       "      <td>3.1</td>\n",
       "      <td>3.1</td>\n",
       "      <td>74.0</td>\n",
       "      <td>84.0</td>\n",
       "      <td>59.0</td>\n",
       "    </tr>\n",
       "    <tr>\n",
       "      <th>2</th>\n",
       "      <td>Chevron</td>\n",
       "      <td>San Ramon</td>\n",
       "      <td>California</td>\n",
       "      <td>94583</td>\n",
       "      <td>Chevron</td>\n",
       "      <td>13524.0</td>\n",
       "      <td>3.1</td>\n",
       "      <td>3.1</td>\n",
       "      <td>3.1</td>\n",
       "      <td>3.0</td>\n",
       "      <td>4.0</td>\n",
       "      <td>3.0</td>\n",
       "      <td>76.0</td>\n",
       "      <td>82.0</td>\n",
       "      <td>41.0</td>\n",
       "    </tr>\n",
       "    <tr>\n",
       "      <th>3</th>\n",
       "      <td>Berkshire Hathaway</td>\n",
       "      <td>Omaha</td>\n",
       "      <td>Nebraska</td>\n",
       "      <td>68131</td>\n",
       "      <td>Berkshire Hathaway</td>\n",
       "      <td>94.0</td>\n",
       "      <td>3.0</td>\n",
       "      <td>2.1</td>\n",
       "      <td>2.1</td>\n",
       "      <td>2.1</td>\n",
       "      <td>2.1</td>\n",
       "      <td>2.0</td>\n",
       "      <td>47.0</td>\n",
       "      <td>55.0</td>\n",
       "      <td>41.0</td>\n",
       "    </tr>\n",
       "    <tr>\n",
       "      <th>4</th>\n",
       "      <td>Apple</td>\n",
       "      <td>Cupertino</td>\n",
       "      <td>California</td>\n",
       "      <td>95014</td>\n",
       "      <td>Apple</td>\n",
       "      <td>1138.0</td>\n",
       "      <td>4.0</td>\n",
       "      <td>4.0</td>\n",
       "      <td>3.0</td>\n",
       "      <td>3.0</td>\n",
       "      <td>4.0</td>\n",
       "      <td>3.0</td>\n",
       "      <td>79.0</td>\n",
       "      <td>93.0</td>\n",
       "      <td>68.0</td>\n",
       "    </tr>\n",
       "  </tbody>\n",
       "</table>\n",
       "</div>"
      ],
      "text/plain": [
       "              Company        Place       State    ZIP      Glassdoor Name  \\\n",
       "0             Walmart  Bentonville    Arkansas  72716             Walmart   \n",
       "1         Exxon Mobil       Irving       Texas  75039          ExxonMobil   \n",
       "2             Chevron    San Ramon  California  94583             Chevron   \n",
       "3  Berkshire Hathaway        Omaha    Nebraska  68131  Berkshire Hathaway   \n",
       "4               Apple    Cupertino  California  95014               Apple   \n",
       "\n",
       "   Glassdoor internal ID  Overall Rating  Culture & Values  Work/Life  \\\n",
       "0                  715.0             3.0               3.0        2.1   \n",
       "1                  237.0             3.1               3.1        3.1   \n",
       "2                13524.0             3.1               3.1        3.1   \n",
       "3                   94.0             3.0               2.1        2.1   \n",
       "4                 1138.0             4.0               4.0        3.0   \n",
       "\n",
       "   Senior Management  Comp & Benefits  Career Opportunities  Recommand  \\\n",
       "0                2.1              3.0                   3.0       56.0   \n",
       "1                3.0              3.1                   3.1       74.0   \n",
       "2                3.0              4.0                   3.0       76.0   \n",
       "3                2.1              2.1                   2.0       47.0   \n",
       "4                3.0              4.0                   3.0       79.0   \n",
       "\n",
       "   CEO Rating  Biz Outlook  \n",
       "0        68.0         46.0  \n",
       "1        84.0         59.0  \n",
       "2        82.0         41.0  \n",
       "3        55.0         41.0  \n",
       "4        93.0         68.0  "
      ]
     },
     "execution_count": 21,
     "metadata": {},
     "output_type": "execute_result"
    }
   ],
   "source": [
    "ff.head()"
   ]
  },
  {
   "cell_type": "code",
   "execution_count": 13,
   "metadata": {
    "collapsed": false
   },
   "outputs": [
    {
     "data": {
      "text/plain": [
       "b'<!DOCTYPE html><html lang=\"en\" xmlns:fb=\"http://ogp.me/ns/fb#\" xml:lang=\"en\" class=\"media-desktop\" xmlns=\"http://www.w3.org/1999/xhtml\"><head><script nonce=\"pzCh8G8ZdiJztpnfdVcz\">\\nwindow._goch_ = {};\\nwindow.addEventListener(\\'click\\', function(event) {\\n    \\'use strict\\';\\n    for (var elm = event.target; elm; elm = elm.parentElement) {\\n        if (elm.id &&\\n            window._goch_.hasOwnProperty(elm.id) &&\\n            window._goch_[elm.id].call(elm, event) === false) {\\n            event.preventDefault();\\n        }\\n    }\\n}, true);\\nwindow._csp_external_script_nonce = \"fGYbouQfNBcuUno5DleX\"</script><meta content=\"IE=edge, chrome=1\" http-equiv=\"X-UA-Compatible\" /><link href=\"https://www.dropbox.com/\" rel=\"canonical\" /><link href=\"https://www.dropbox.com/\" rel=\"alternate\" hreflang=\"en-us\" /><link href=\"https://www.dropbox.com/en_GB/\" rel=\"alternate\" hreflang=\"en-gb\" /><link href=\"https://www.dropbox.com/da_DK/\" rel=\"alternate\" hreflang=\"da-dk\" /><link href=\"https://www.dropbox.com/de/\" rel=\"alternate\" hreflang=\"de-de\" /><link href=\"https://www.dropbox.com/es/\" rel=\"alternate\" hreflang=\"es-la\" /><link href=\"https://www.dropbox.com/es_ES/\" rel=\"alternate\" hreflang=\"es-es\" /><link href=\"https://www.dropbox.com/fr/\" rel=\"alternate\" hreflang=\"fr-fr\" /><link href=\"https://www.dropbox.com/id/\" rel=\"alternate\" hreflang=\"id-id\" /><link href=\"https://www.dropbox.com/it/\" rel=\"alternate\" hreflang=\"it-it\" /><link href=\"https://www.dropbox.com/ja/\" rel=\"alternate\" hreflang=\"ja-jp\" /><link href=\"https://www.dropbox.com/ko/\" rel=\"alternate\" hreflang=\"ko-kr\" /><link href=\"https://www.dropbox.com/ms/\" rel=\"alternate\" hreflang=\"ms-my\" /><link href=\"https://www.dropbox.com/nb_NO/\" rel=\"alternate\" hreflang=\"nb-no\" /><link href=\"https://www.dropbox.com/nl_NL/\" rel=\"alternate\" hreflang=\"nl-nl\" /><link href=\"https://www.dropbox.com/pl/\" rel=\"alternate\" hreflang=\"pl-pl\" /><link href=\"https://www.dropbox.com/pt_BR/\" rel=\"alternate\" hreflang=\"pt-br\" /><link href=\"https://www.dropbox.com/ru/\" rel=\"alternate\" hreflang=\"ru-ru\" /><link href=\"https://www.dropbox.com/sv_SE/\" rel=\"alternate\" hreflang=\"sv-se\" /><link href=\"https://www.dropbox.com/th_TH/\" rel=\"alternate\" hreflang=\"th-th\" /><link href=\"https://www.dropbox.com/zh_CN/\" rel=\"alternate\" hreflang=\"zh-cn\" /><link href=\"https://www.dropbox.com/zh_TW/\" rel=\"alternate\" hreflang=\"zh-tw\" /><link href=\"https://cfl.dropboxstatic.com/static/images/favicon-vflUeLeeY.ico\" rel=\"shortcut icon\" /><link href=\"https://cfl.dropboxstatic.com/static/css/main-vflKUe-rF.css\" type=\"text/css\" rel=\"stylesheet\" /><!--[if IE]><link href=\"https://cfl.dropboxstatic.com/static/css/main_old_ie-vfljTFv03.css\" type=\"text/css\" rel=\"stylesheet\" /><![endif]--><script type=\"text/javascript\" nonce=\"pzCh8G8ZdiJztpnfdVcz\">window.ST=+new Date();</script><link href=\"https://cfl.dropboxstatic.com/static/images/logo_catalog/dropbox_webclip_60_m1-vflgZE2qv.png\" rel=\"apple-touch-icon\" /><link href=\"https://cfl.dropboxstatic.com/static/images/logo_catalog/dropbox_webclip_76_m1-vflB_aAVn.png\" rel=\"apple-touch-icon\" sizes=\"76x76\" /><link href=\"https://cfl.dropboxstatic.com/static/images/logo_catalog/dropbox_webclip_120_m1-vflmwkfBS.png\" rel=\"apple-touch-icon\" sizes=\"120x120\" /><link href=\"https://cfl.dropboxstatic.com/static/images/logo_catalog/dropbox_webclip_152_m1-vflU0bwfQ.png\" rel=\"apple-touch-icon\" sizes=\"152x152\" /><meta content=\"text/html; charset=UTF-8\" http-equiv=\"content-type\" /><meta content=\"Login to Dropbox. Bring your photos, docs, and videos anywhere and keep your files safe.\" name=\"description\" /><meta content=\"online storage, free storage, file sharing, share files, awesome, cloud storage, online backup, cross platform, sync, sharing, mac, windows, os x, linux, backup, collaboration, file versioning, file revisions, remote access, undelete\" name=\"keywords\" /><meta content=\"https://www.dropbox.com/login?cont=https%3A%2F%2Fwww.dropbox.com%2Fpreview%2FApps%2FGlassdoorToget%2F2017_09_16-12_24.xlsx%3Fdl%3D1\" property=\"og:url\" /><meta content=\"Dropbox\" property=\"og:site_name\" /><meta content=\"website\" property=\"og:type\" /><meta content=\"Login to Dropbox. Bring your photos, docs, and videos anywhere and keep your files safe.\" property=\"og:description\" /><meta content=\"Login - Dropbox \" property=\"og:title\" /><meta content=\"210019893730\" property=\"fb:app_id\" /><meta content=\"https://cfl.dropboxstatic.com/static/images/logo_catalog/glyph_m1@2x-vflA6lTFZ.png\" property=\"og:image\" /><meta content=\"summary\" name=\"twitter:card\" /><meta content=\"@Dropbox\" name=\"twitter:site\" /><meta content=\"https://www.dropbox.com/login?cont=https%3A%2F%2Fwww.dropbox.com%2Fpreview%2FApps%2FGlassdoorToget%2F2017_09_16-12_24.xlsx%3Fdl%3D1\" name=\"twitter:url\" /><meta content=\"Login - Dropbox \" name=\"twitter:title\" /><meta content=\"Login to Dropbox. Bring your photos, docs, and videos anywhere and keep your files safe.\" name=\"twitter:description\" /><meta content=\"https://cfl.dropboxstatic.com/static/images/logo_catalog/twitter-card-glyph_m1@2x-vflrCAzPX.png\" name=\"twitter:image\" /><meta content=\"TnuSyOnBMNmtugbpL1ZvW2PbSF9LKvoTzrvOGS9h-b0\" name=\"google-site-verification\" /><meta content=\"EZKIczQcM1-DVUMz8heu1dIhNtxNbLqbaA9-HbOnCQ4\" name=\"google-site-verification\" /><meta content=\"tz8iotmk-pkhui406y41y5bfmfxdwmaa4a-yc0hm6r0fga7s6j0j27qmgqkmc7oovihzghbzhbdjk-uiyrz438nxsjdbj3fggwgl8oq2nf4ko8gi7j4z7t78kegbidl4\" name=\"norton-safeweb-site-verification\" /><meta content=\"https://cfl.dropboxstatic.com/static/images/win8_web_tile-vfl8eyKFU.png\" name=\"msapplication-TileImage\" /><meta content=\"#ffffff\" name=\"msapplication-TileColor\" /><title>Login - Dropbox </title><style type=\"text/css\">.hny-izvkhc { display: none; }</style> <link href=\"https://cfl.dropboxstatic.com/static/css/accessibility-vflMqZNeg.css\" type=\"text/css\" crossorigin=\"anonymous\" rel=\"stylesheet\" /><link href=\"https://cfl.dropboxstatic.com/static/css/components/button-vfl-_t7Pp.css\" type=\"text/css\" crossorigin=\"anonymous\" rel=\"stylesheet\" /><link href=\"https://cfl.dropboxstatic.com/static/css/components/exp_cards-vflJsYU3g.css\" type=\"text/css\" crossorigin=\"anonymous\" rel=\"stylesheet\" /><link href=\"https://cfl.dropboxstatic.com/static/css/components/login_form-vfleDD3ul.css\" type=\"text/css\" crossorigin=\"anonymous\" rel=\"stylesheet\" /><link href=\"https://cfl.dropboxstatic.com/static/css/components/login_or_register-vflCHQ77B.css\" type=\"text/css\" crossorigin=\"anonymous\" rel=\"stylesheet\" /><link href=\"https://cfl.dropboxstatic.com/static/css/components/react_locale_selector-vflbNAawP.css\" type=\"text/css\" crossorigin=\"anonymous\" rel=\"stylesheet\" /><link href=\"https://cfl.dropboxstatic.com/static/css/dropbox/2015/layout-vflvc3veE.css\" type=\"text/css\" crossorigin=\"anonymous\" rel=\"stylesheet\" /><link href=\"https://cfl.dropboxstatic.com/static/css/dropbox/2015/pages/index-vflXjCQI4.css\" type=\"text/css\" crossorigin=\"anonymous\" rel=\"stylesheet\" /><link href=\"https://cfl.dropboxstatic.com/static/css/dropbox/base-vflYjPznC.css\" type=\"text/css\" crossorigin=\"anonymous\" rel=\"stylesheet\" /><link href=\"https://cfl.dropboxstatic.com/static/css/legacy_packages/components-vflC9ETTX.css\" type=\"text/css\" crossorigin=\"anonymous\" rel=\"stylesheet\" /><link href=\"https://cfl.dropboxstatic.com/static/css/login_or_register-vflTH-z_u.css\" type=\"text/css\" crossorigin=\"anonymous\" rel=\"stylesheet\" /><link href=\"https://cfl.dropboxstatic.com/static/css/recaptcha_challenge-vflrcf67y.css\" type=\"text/css\" crossorigin=\"anonymous\" rel=\"stylesheet\" /><link href=\"https://cfl.dropboxstatic.com/static/css/scooter/scooter-scoped-vflhQ6850.css\" type=\"text/css\" crossorigin=\"anonymous\" rel=\"stylesheet\" /><link href=\"https://cfl.dropboxstatic.com/static/css/sprites/web_sprites-vflv2MHAO.css\" type=\"text/css\" crossorigin=\"anonymous\" rel=\"stylesheet\" /><link href=\"https://fonts.googleapis.com/css?family=Open+Sans:100,200,300,400,600,700&amp;subset=latin,latin-ext\" type=\"text/css\" rel=\"stylesheet\" /><script type=\"text/javascript\" nonce=\"pzCh8G8ZdiJztpnfdVcz\">\\n            (function(){\"use strict\";var e,n=window,r=function(){e=[],n.addRequireLoadCallback=function(n){return e.push(n)},n.configureRequire=function(){var e=arguments;n.addRequireLoadCallback(function(){return n.configureRequire.apply(null,e)})},n.define=function(){var e=arguments;n.addRequireLoadCallback(function(){return n.define.apply(null,e)})}};r(),n._insertRequireShim=r,n.InitRequireJs=function(r){n.requireContexts={},requirejs.onError=function(){},n.performance&&null!=n.performance.now&&(requirejs.onResourceLoad=function(e,r,i){var u=n.performance.now(),o=n.requireContexts[e.id];o&&o.require([\"modules/clean/web_module_timing\"],function(e){var n=o.module_callback_times[r.id];e.add_module(r,u,n?n.callbackTime:void 0,n?n.callbackDuration:void 0)})}),n.configureRequire=r,n.addRequireLoadCallback=function(e){return e()},e.forEach(function(e){return e()})}})();\\n\\n\\n            window.GlobalConstants = {\"CSP_SCRIPT_NONCE\": \"pzCh8G8ZdiJztpnfdVcz\"};\\n            </script> <script async=\"async\" type=\"text/javascript\" src=\"https://cfl.dropboxstatic.com/static/compiled/js/alameda_bundle/alameda_bundle.min-vflaQG_Y3.js\" nonce=\"fGYbouQfNBcuUno5DleX\"></script> <script type=\"text/javascript\" nonce=\"pzCh8G8ZdiJztpnfdVcz\">\\n            var same_hostname = false;\\n            try {\\n                same_hostname = (top.location.hostname === self.location.hostname);\\n            } catch (error) {}\\n\\n            if (self != top && !same_hostname) {\\n                top.location.replace(self.location.href);\\n                setTimeout(function() {\\n                    window.DB_FRAME_BUST = true;\\n                    document.body.innerHTML = (\\n                        \"<img src=\\'https://cfl.dropboxstatic.com/static/images/logo-vflL7Ces6.png\\' onClick=\\'top.location.href=window.location.href\\' />\");\\n                }, 1);\\n            }\\n        </script></head><body class=\"en  \" dir=\"ltr\"> <div style=\"display: none;\" id=\"modal-behind\"></div><div style=\"display: none;\" id=\"modal\"><div id=\"modal-box\"><a aria-label=\"Close\" href=\"#\" id=\"modal-x\"></a><h2 id=\"modal-title\"></h2><div id=\"modal-content\"></div></div></div><div style=\"display: none;\" id=\"modal-overlay\"></div><div style=\"display:none\" id=\"grave-yard\"></div><div style=\"display:none\" id=\"trash-can\"></div><script type=\"text/template\" id=\"tutorial_nav_bubble_tmpl\" nonce=\"pzCh8G8ZdiJztpnfdVcz\"><div class=\"tutorial-bubble-content\"><a class=\"tutorial-bubble-x-link\"><img src=\"/static/images/x-small-active.png\" class=\"tutorial-bubble-x-img\" /></a><h1 class=\"tutorial-bubble-title\"><%= TEMPLATE_DATA.title %></h1><p class=\"tutorial-bubble-body\"><%= TEMPLATE_DATA.body %></p><a class=\"tutorial-bubble-button <%= TEMPLATE_DATA.button_class %>\"><%= TEMPLATE_DATA.button_text %></a></div></script><div id=\"floaters\"></div><div style=\"display: none;\" class=\"external-drop-indicator top\"></div><div style=\"display: none;\" class=\"external-drop-indicator right\"></div><div style=\"display: none;\" class=\"external-drop-indicator bottom\"></div><div style=\"display: none;\" class=\"external-drop-indicator left\"></div><span class=\"dropbox-2015 dropbox-logo-2015\"><header class=\"mast-head\"><div class=\"mast-head__container container\"><nav class=\"mast-head__nav mast-head-nav\"><ul class=\"nav-list\"><li class=\"nav-list__item nav-list__item--dfb\"><a href=\"/business\" id=\"try-dfb\" class=\"button-tertiary try-dfb\">Try Dropbox Business</a></li></ul><ul class=\"nav-list\"><li class=\"nav-list__item nav-list__item--download\"><a href=\"/downloading?src=index\" class=\"button-link\">Download the app</a></li></ul></nav><h1 id=\"dropbox-logo\" class=\"dropbox-logo\"><a href=\"/\" class=\"dropbox-logo__link\"><img src=\"https://cfl.dropboxstatic.com/static/images/logo_catalog/dropbox_logo_glyph_2015_m1-vfleInWIl.svg\" alt=\"\" class=\"dropbox-logo__glyph\" /><img src=\"https://cfl.dropboxstatic.com/static/images/logo_catalog/dropbox_logo_text_2015_m1-vflV-vZRB.svg\" alt=\"\" class=\"dropbox-logo__type\" />Dropbox</a></h1></div></header></span><div id=\"outer-frame\"> <div id=\"page-content\"><div tabindex=\"-1\" id=\"main-skip\" class=\"main-skip-destination\"></div><div id=\"login-or-register-page-content\"><img data-js-component-id=\"component2952092768776722918\" src=\"https://cfl.dropboxstatic.com/static/images/empty_states/sign-in-vflARyFIg.png\" data-hi-res=\"https://cfl.dropboxstatic.com/static/images/empty_states/sign-in@2x-vflBuaBON.png\" alt=\"\" class=\"login-or-register-img\" /><div class=\"login-register-container-wrapper\"><div class=\"login-register-container standard login-register-container--link-top\" id=\"pyxl2952092768776722919\"><div class=\"login-register-login-part\"><div class=\"clearfix\"><div class=\"login-register-header\">Sign in</div><div class=\"login-register-switch\">or <a href=\"#\" class=\"login-register-switch-link\">create an account</a></div></div><div data-js-component-id=\"component2952092768776722921\" id=\"pyxl2952092768776722920\" class=\"login-form-container standard\"><div class=\"login-form-container__google-div\"><button disabled=\"True\" data-is-popup=\"true\" class=\"auth-google button-primary\"><div class=\"sign-in-text\">Sign in with Google</div></button><div class=\"c-card c-card--error u-l-dn google-login-error\">Oops! We couldn\\xe2\\x80\\x99t find a Dropbox account matching that email. <a class=\"third-party-signup-link\">Click here to create one.</a></div><div class=\"hr-label\"><span class=\"hr-label__text\">or</span></div></div><div id=\"regular-login-forms\"><form action=\"/ajax_login\" novalidate=\"\" style=\"\" method=\"POST\" class=\"clearfix credentials-form login-form\"><input type=\"hidden\" name=\"cont\" value=\"https://www.dropbox.com/preview/Apps/GlassdoorToget/2017_09_16-12_24.xlsx?dl=1\" /><input type=\"hidden\" name=\"require_role\" /><input type=\"hidden\" name=\"refresh_token\" value=\"\" /><input type=\"hidden\" name=\"email_sig\" value=\"\" /><input type=\"hidden\" name=\"login_sd\" value=\"\" id=\"pyxl2952092768776722916\" /> <input type=\"hidden\" name=\"signup_data\" /><input type=\"hidden\" name=\"third_party_auth_experiment\" value=\"EXPERIMENT\" /><input type=\"hidden\" name=\"signup_tag\" /><div class=\"credentials-form__fields\"><div data-js-component-id=\"component2952092768776722924\" tabindex=\"-1\" id=\"pyxl2952092768776722922\" class=\"login-email text-input login-text-input standard\"><div class=\"text-input-error-wrapper\"><form:error name=\"login_email\" /><div data-error-field-name=\"login_email\"></div></div><div class=\"text-input-wrapper\"><input class=\"text-input-input autofocus\" type=\"email\" name=\"login_email\" id=\"pyxl2952092768776722923\" /> <label style=\"\" for=\"pyxl2952092768776722923\">Email</label></div><small class=\"secondary-label\"></small></div><div data-js-component-id=\"component2952092768776722927\" tabindex=\"-1\" id=\"pyxl2952092768776722925\" class=\"text-input login-password login-text-input standard\"><div class=\"text-input-error-wrapper\"><form:error name=\"login_password\" /><div data-error-field-name=\"login_password\"></div></div><div class=\"text-input-wrapper\"><input class=\"password-input text-input-input\" type=\"password\" name=\"login_password\" id=\"pyxl2952092768776722926\" /> <label style=\"\" for=\"pyxl2952092768776722926\">Password</label><div class=\"password-caps-indicator\">Caps lock is currently on</div></div><small class=\"secondary-label\"></small></div><div class=\"c-card c-card--error u-l-dn\">Oops! It looks like you may have forgotten your password. <a href=\\'/forgot\\'>Click here to reset it.</a></div><div id=\"react-login-recaptcha-challenge-div\"></div><div class=\"clearfix\"><div class=\"sso-description\"><div class=\"sprite-div\"><div class=\"sprite-frame small icon-left\"><img src=\"https://cfl.dropboxstatic.com/static/images/icons/icon_spacer-vflN3BYt2.gif\" alt=\"\" class=\" sprite sprite_web s_web_lock\" /></div><div class=\"sprite-text\"><div class=\"sprite-text-inner\">Single sign-on enabled</div></div></div></div><div class=\"checkbox checkbox-inline standard remember-me\"><div class=\"text-input-error-wrapper\"><form:error name=\"remember_me\" /><div data-error-field-name=\"remember_me\"></div></div><input checked=\"checked\" type=\"checkbox\" id=\"pyxl2952092768776722928\" name=\"remember_me\" /><label class=\"checkbox_label\" for=\"pyxl2952092768776722928\">Remember me</label></div><button disabled=\"True\" type=\"submit\" class=\"login-button button-primary\"><div class=\"sign-in-text\">Sign in</div><div class=\"sso-text\">Continue</div></button><span class=\"login-loading-indicator\"><img data-js-component-id=\"component2952092768776722929\" src=\"https://cfl.dropboxstatic.com/static/images/icons/ajax-loading-small-vfl3Wt7C_.gif\" alt=\"\" data-hi-res=\"https://cfl.dropboxstatic.com/static/images/icons/ajax-loading-small@2x-vflAxdZTP.gif\" /></span></div><div class=\"sso-optout\"><div>or <a href=\"#\">Log in with Dropbox credentials</a></div></div></div><div class=\"login-need-help\"><a href=\"/forgot\">Forgot your password?</a></div></form><form action=\"/ajax_verify_code\" style=\"display:none;\" method=\"POST\" class=\"two-factor-form clearfix 2fa-seckey-form \"><input type=\"hidden\" name=\"cont\" value=\"https://www.dropbox.com/preview/Apps/GlassdoorToget/2017_09_16-12_24.xlsx?dl=1\" /><input type=\"hidden\" name=\"require_role\" /><input type=\"hidden\" name=\"remember_me\" /><input type=\"hidden\" name=\"u2f_challenge\" value=\"\" /><input type=\"hidden\" name=\"signup_data\" /><input type=\"hidden\" name=\"third_party_auth_experiment\" value=\"EXPERIMENT\" /><input type=\"hidden\" name=\"signup_tag\" /><div class=\"login-info two-factor-uses-u2f\"><img data-js-component-id=\"component2952092768776722930\" src=\"/static/images/security_keys/insert.png\" alt=\"\" class=\"seckey-insert\" /><div class=\"two-factor-seckey-instructions\"><p><span style=\"font-weight:bold\">Insert your security key to use it</span> <img data-js-component-id=\"component2952092768776722931\" src=\"/static/images/icons/ajax-loading-small.gif\" alt=\"\" class=\"seckey-loading-status\" /><img src=\"https://cfl.dropboxstatic.com/static/images/icons/icon_spacer-vflN3BYt2.gif\" style=\"display:none\" class=\"seckey-loading-status sprite sprite_web s_web_bulletpoint-check\" /></p>After inserting, tap your key if it has a button or gold disk.</div></div><div data-js-component-id=\"component2952092768776722934\" tabindex=\"-1\" id=\"pyxl2952092768776722932\" class=\"text-input login-text-input standard\"><div class=\"text-input-error-wrapper\"><form:error name=\"code\" /><div data-error-field-name=\"code\"></div></div><div class=\"text-input-wrapper\"><input class=\"text-input-input\" style=\"display:none\" type=\"text\" id=\"pyxl2952092768776722933\" name=\"code\" /> <label style=\"\" for=\"pyxl2952092768776722933\"></label></div><small class=\"secondary-label\"></small></div><div style=\"display:none;\" class=\"two-factor-seckey-instructions\"><div style=\"color:red\"><span class=\"error-msg\">Key not found.</span></div><button class=\"two-factor-seckey-retry button-tertiary\">Retry</button></div><div class=\"checkbox checkbox-inline standard remember-me\"><div class=\"text-input-error-wrapper\"><form:error name=\"trusted\" /><div data-error-field-name=\"trusted\"></div></div><input type=\"checkbox\" id=\"pyxl2952092768776722935\" name=\"trusted\" /><label class=\"checkbox_label\" for=\"pyxl2952092768776722935\"><div data-js-component-id=\"component2952092768776722936\" class=\"tooltip-wrapper info-icon\"><div class=\"tooltip-bubble tooltip-tooltip\"><div class=\"tooltip-inner\"><div class=\"two-factor-trusted-info\">Trusted computers will never ask you for a security code again. You should only trust this computer if you trust everyone who uses it.</div></div></div> <div class=\"tooltip-prompt sprite-div\"><div class=\"sprite-text\"><div class=\"sprite-text-inner\">Trust this computer</div></div><div class=\"sprite-frame small icon-right\"><img src=\"https://cfl.dropboxstatic.com/static/images/icons/icon_spacer-vflN3BYt2.gif\" alt=\"More information\" class=\" sprite sprite_web s_web_info\" /></div></div></div></label></div><div class=\"two-factor-use-phone-instead\"><a href=\"#\" class=\"two-factor-uses-sms\">Send SMS instead</a><a href=\"#\" class=\"two-factor-uses-authenticator\">Use mobile authenticator instead</a></div></form><form action=\"/ajax_verify_code\" style=\"display:none;\" method=\"POST\" class=\"two-factor-form clearfix 2fa-phone-form \"><input type=\"hidden\" name=\"cont\" value=\"https://www.dropbox.com/preview/Apps/GlassdoorToget/2017_09_16-12_24.xlsx?dl=1\" /><input type=\"hidden\" name=\"require_role\" /><input type=\"hidden\" name=\"remember_me\" /><input type=\"hidden\" name=\"signup_data\" /><input type=\"hidden\" name=\"third_party_auth_experiment\" value=\"EXPERIMENT\" /><input type=\"hidden\" name=\"signup_tag\" /><div class=\"login-info two-factor-uses-sms\">We sent a code to your phone number ending in <span class=\"last-two-digits\">**</span>.</div><div class=\"login-info two-factor-uses-authenticator\">Enter the code generated by your authenticator app.</div><div data-js-component-id=\"component2952092768776722939\" tabindex=\"-1\" id=\"pyxl2952092768776722937\" class=\"text-input login-text-input standard\"><div class=\"text-input-error-wrapper\"><form:error name=\"code\" /><div data-error-field-name=\"code\"></div></div><div class=\"text-input-wrapper\"><input name=\"code\" class=\"text-input-input autofocus\" autocomplete=\"off\" type=\"text\" id=\"pyxl2952092768776722938\" /> <label style=\"\" for=\"pyxl2952092768776722938\">6-digit code</label></div><small class=\"secondary-label\"></small></div><div class=\"checkbox checkbox-inline standard remember-me\"><div class=\"text-input-error-wrapper\"><form:error name=\"trusted\" /><div data-error-field-name=\"trusted\"></div></div><input type=\"checkbox\" id=\"pyxl2952092768776722940\" name=\"trusted\" /><label class=\"checkbox_label\" for=\"pyxl2952092768776722940\"><div data-js-component-id=\"component2952092768776722941\" class=\"tooltip-wrapper info-icon\"><div class=\"tooltip-bubble tooltip-tooltip\"><div class=\"tooltip-inner\"><div class=\"two-factor-trusted-info\">Trusted computers will never ask you for a security code again. You should only trust this computer if you trust everyone who uses it.</div></div></div> <div class=\"tooltip-prompt sprite-div\"><div class=\"sprite-text\"><div class=\"sprite-text-inner\">Trust this computer</div></div><div class=\"sprite-frame small icon-right\"><img src=\"https://cfl.dropboxstatic.com/static/images/icons/icon_spacer-vflN3BYt2.gif\" alt=\"More information\" class=\" sprite sprite_web s_web_info\" /></div></div></div></label></div><button type=\"submit\" class=\"login-button button-primary\">Enter</button><div class=\"two-factor-need-help\"><a href=\"#\" class=\"resend-two-factor-code two-factor-uses-sms\">Resend code</a><a href=\"/twofactor_recovery?cont=https%3A%2F%2Fwww.dropbox.com%2Fpreview%2FApps%2FGlassdoorToget%2F2017_09_16-12_24.xlsx%3Fdl%3D1\" class=\"twofactor_recovery_url\">Having trouble getting a code?</a></div></form></div></div></div><div class=\"login-register-register-part\"><div class=\"clearfix\"><div class=\"login-register-header\">Create an account</div><div class=\"login-register-switch\">or <a href=\"#\" class=\"login-register-switch-link\">log in</a></div></div><div data-js-component-id=\"component2952092768776722942\" class=\"login-form-container form_shown register standard third_party_auth\"><form action=\"/ajax_register\" class=\"clearfix credentials-form register-form\"><input type=\"hidden\" name=\"cont\" /><input type=\"hidden\" name=\"signup_data\" /><input type=\"hidden\" name=\"third_party_auth_experiment\" value=\"EXPERIMENT\" /><input type=\"hidden\" name=\"signup_tag\" /> <input type=\"hidden\" name=\"signup_sd\" value=\"\" id=\"pyxl2952092768776722917\" /><div class=\"credentials-form__fields\"><div class=\"register-form__name-fields\"><div data-js-component-id=\"component2952092768776722945\" tabindex=\"-1\" id=\"pyxl2952092768776722943\" class=\"input-fname text-input__margin-right text-input standard first\"><div class=\"text-input-error-wrapper\"><form:error name=\"fname\" /><div data-error-field-name=\"fname\"></div></div><div class=\"text-input-wrapper\"><input name=\"fname\" value=\"\" class=\"text-input-input autofocus\" type=\"text\" id=\"pyxl2952092768776722944\" /> <label style=\"\" for=\"pyxl2952092768776722944\">First name</label></div><small class=\"secondary-label\"></small></div><div data-js-component-id=\"component2952092768776722948\" tabindex=\"-1\" id=\"pyxl2952092768776722946\" class=\"input-lname second text-input standard\"><div class=\"text-input-error-wrapper\"><form:error name=\"lname\" /><div data-error-field-name=\"lname\"></div></div><div class=\"text-input-wrapper\"><input class=\"text-input-input\" type=\"text\" id=\"pyxl2952092768776722947\" name=\"lname\" /> <label style=\"\" for=\"pyxl2952092768776722947\">Last name</label></div><small class=\"secondary-label\"></small></div></div><div data-js-component-id=\"component2952092768776722951\" tabindex=\"-1\" id=\"pyxl2952092768776722949\" class=\"input-email text-input__margin-right text-input standard\"><div class=\"text-input-error-wrapper\"><form:error name=\"email\" /><div data-error-field-name=\"email\"></div></div><div class=\"text-input-wrapper\"><input class=\"text-input-input\" type=\"email\" name=\"email\" value=\"\" id=\"pyxl2952092768776722950\" /> <label style=\"\" for=\"pyxl2952092768776722950\">Email</label></div><small class=\"secondary-label\"></small></div><div data-js-component-id=\"component2952092768776722954\" tabindex=\"-1\" id=\"pyxl2952092768776722952\" class=\"input-password text-input standard\"><div class=\"text-input-error-wrapper\"><form:error name=\"password\" /><div data-error-field-name=\"password\"></div></div><div class=\"text-input-wrapper\"><input autocomplete=\"off\" class=\"password-input text-input-input\" type=\"password\" name=\"password\" id=\"pyxl2952092768776722953\" /> <label style=\"\" for=\"pyxl2952092768776722953\">Password</label><div data-js-component-id=\"component2952092768776722955\" class=\"bubble-dropdown-container\"><div aria-label=\"Password strength\" class=\"password-input-meter standard bubble-dropdown-target bubble-dropdown-target\" aria-describedby=\"password-desc\" tabindex=\"-1\"><div class=\"password-input-dot\"></div><div class=\"password-input-dot\"></div><div class=\"password-input-dot\"></div><div class=\"password-input-dot\"></div></div><div class=\"bubble-dropdown left\"><div class=\"password-bubble-title\"></div><div id=\"password-desc\" class=\"password-bubble-desc\">Good passwords are hard to guess. Use uncommon words or inside jokes, non-standard uPPercasing, creative spelllling, and non-obvious numbers and symbols</div><div class=\"bubble-arrow-border\"></div><div class=\"bubble-arrow\"></div></div></div><div class=\"password-caps-indicator\">Caps lock is currently on</div></div><small class=\"secondary-label\"></small></div></div><div id=\"react-signup-recaptcha-challenge-div\"></div><div class=\"checkbox checkbox-inline agree standard\"><div class=\"text-input-error-wrapper\"><form:error name=\"tos_agree\" /><div data-error-field-name=\"tos_agree\"></div></div><input type=\"checkbox\" id=\"pyxl2952092768776722956\" name=\"tos_agree\" /><label class=\"checkbox_label\" for=\"pyxl2952092768776722956\">I agree to <a href=\"/terms\" target=\"_blank\">Dropbox terms</a>.</label></div><button disabled=\"True\" type=\"submit\" class=\"login-button button-primary\">Create an account</button><div class=\"hr-label\"><span class=\"hr-label__text\">or</span></div><button disabled=\"True\" type=\"button\" class=\"auth-google button-primary\">Sign up with Google</button></form></div></div></div></div></div></div><div id=\"page-prefooter\"></div><footer><div id=\"page-full-footer\"><div id=\"footer-top-margin\"></div><div id=\"footer-border\"></div><div class=\"footer-col\"><ul><li class=\"header\">Dropbox</li><li><a href=\"https://www.dropbox.com/install\">Install</a></li><li><a href=\"https://www.dropbox.com/mobile\">Mobile</a></li><li><a href=\"https://www.dropbox.com/pricing\">Pricing</a></li><li><a href=\"https://www.dropbox.com/business\">Business</a></li><li><a href=\"https://www.dropbox.com/enterprise\">Enterprise</a></li></ul></div><div class=\"footer-col\"><ul><li class=\"header\">About us</li><li><a href=\"http://blog.dropbox.com/\">Dropbox Blog</a></li><li><a href=\"https://www.dropbox.com/about\">About</a></li><li><a href=\"https://www.dropbox.com/branding\">Branding</a></li><li><a href=\"https://www.dropbox.com/news\">News</a></li><li><a href=\"https://www.dropbox.com/jobs\">Jobs</a></li></ul></div><div class=\"footer-col\"><ul><li class=\"header\">Support</li><li><a href=\"https://www.dropbox.com/help\">Help Center</a></li><li><a href=\"https://www.dropbox.com/contact\">Contact us</a></li><li><a href=\"https://www.dropbox.com/dmca\">Copyright</a></li><li><a href=\"https://www.dropbox.com/terms/cookies\">Cookies</a></li><li><a href=\"https://www.dropbox.com/privacy\">Privacy & Terms</a></li></ul></div><div class=\"footer-col\"><ul><li class=\"header\">Community</li><li><a href=\"https://www.dropbox.com/referrals\">Referrals</a></li><li><a href=\"https://www.dropboxforum.com\">Forum</a></li><li><a href=\"https://twitter.com/dropbox\" target=\"_blank\" rel=\"noreferrer\">Twitter</a></li><li><a href=\"https://facebook.com/Dropbox\" target=\"_blank\" rel=\"noreferrer\">Facebook</a></li><li><a href=\"https://www.dropbox.com/developers\">Developers</a></li></ul></div><div class=\"react-locale-selector-wrapper\"><div id=\"component2952092768776722957\"><div class=\"react-stub\"></div></div></div><div class=\"clear\"></div></div></footer><noscript><p class=\"center\">The Dropbox website requires JavaScript.</p></noscript></div><div style=\"position: absolute; top: 0; left: 0; font-family: Courier\" id=\"ieconsole\"></div><div style=\"position:absolute; top:-10000px;width:0px; height:0px; left: 0;\" id=\"FB_HiddenContainer\"></div>  <script type=\"text/javascript\" nonce=\"pzCh8G8ZdiJztpnfdVcz\">define(\"modules/constants/pixie\", [], function() {\\n            return {\"BIN\": \"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\", \"CSP_NONCE\": \"pzCh8G8ZdiJztpnfdVcz\", \"TPC\": \"eyIwIjogIjE3YzY5YzM0LWNiZWMtMTFlNy1hZjk2LTE0MDJlYzZlMzg2NCIsICIxIjogMTUxMDk2MDA1Mjk3MH0=\", \"SEP\": \"#$\\\\u003c@\"};\\n        });\\n        define(\"modules/constants/login_and_register\", [], function() {\\n            return {\"REDIRECT_WINDOW_TOKEN\": \"AHuphCBu1tXscVql-bts2B_2g6Y31wm7mxCzqBLVIdv2Mw\", \"CYBEFEND_KEY\": \"k3mpvuSruqsYhUi5Wo8lpGYaJFSQRTXsaRYUZY2yWy8\", \"GOOGLE_LOGIN_DESKTOP\": \"ON_TOP\"};\\n        });\\n        define(\"modules/constants/undo_strings\", [], function() {\\n            return {\"UNDO\": \"Undo\"};\\n        });\\n        define(\"modules/constants/page_load\", [], function() {\\n            return {\"USER_LOCALE\": \"en\", \"PUBLIC_MODE_OVERRIDE\": null, \"COUNTRY_OVERRIDE\": null, \"METASERVER_MDB_TAGS\": [\"meta-www\"], \"CSP_SCRIPT_NONCE\": \"pzCh8G8ZdiJztpnfdVcz\", \"PAGE_LOAD_TIME\": 1510960052, \"REPO_REV\": \"d6b1af1918cc7e69637af518900d7fe105d6227e\"};\\n        });\\n        define(\"modules/constants/env\", [], function() {\\n            return {\"PROF_SHARING_WEBSERVER\": \"showcase.dropbox.com\", \"LIVE_TRANSCODE_SERVER\": \"showbox-tr.dropbox.com\", \"STATIC_CONTENT_HOST\": \"cfl.dropboxstatic.com\", \"BATCH_THUMB_ENDPOINTS\": [\"//photos-1.dropbox.com/btjb\", \"//photos-2.dropbox.com/btjb\", \"//photos-3.dropbox.com/btjb\", \"//photos-4.dropbox.com/btjb\", \"//photos-5.dropbox.com/btjb\", \"//photos-6.dropbox.com/btjb\"], \"NOTES_WEBSERVER\": \"paper.dropbox.com\", \"REDIRECT_SAFE_ORIGINS\": [\"www.dropbox.com\", \"dropbox.com\", \"api.dropboxapi.com\", \"api.dropbox.com\", \"linux.dropbox.com\", \"photos.dropbox.com\", \"carousel.dropbox.com\", \"client-web.dropbox.com\", \"www.dropbox.com\", \"paper.dropbox.com\", \"notes.dropbox.com\", \"test.composer.dropbox.com\", \"showcase.dropbox.com\", \"collections.dropbox.com\"]};\\n        });\\n        define(\"modules/constants/ajax_strings\", [], function() {\\n            return {\"PROBLEM_COMPLETING_REQUEST\": \"There was a problem completing this request.\", \"STILL_WORKING\": \"Still working...\"};\\n        });\\n        define(\"modules/constants/locales\", [], function() {\\n            return {\"LIST_OF_LOCALES_WITHOUT_INTERNAL\": [{\"localeName\": \"Bahasa Indonesia\", \"decorator\": \"\", \"localeCode\": \"id\"}, {\"localeName\": \"Bahasa Malaysia\", \"decorator\": \"\", \"localeCode\": \"ms\"}, {\"localeName\": \"Dansk\", \"decorator\": \"\", \"localeCode\": \"da_DK\"}, {\"localeName\": \"Deutsch\", \"decorator\": \"\", \"localeCode\": \"de\"}, {\"localeName\": \"English (United Kingdom)\", \"decorator\": \"\", \"localeCode\": \"en_GB\"}, {\"localeName\": \"English (United States)\", \"decorator\": \"\", \"localeCode\": \"en\"}, {\"localeName\": \"Espa\\\\u00f1ol (Espa\\\\u00f1a)\", \"decorator\": \"\", \"localeCode\": \"es_ES\"}, {\"localeName\": \"Espa\\\\u00f1ol (Latinoam\\\\u00e9rica)\", \"decorator\": \"\", \"localeCode\": \"es\"}, {\"localeName\": \"Fran\\\\u00e7ais\", \"decorator\": \"\", \"localeCode\": \"fr\"}, {\"localeName\": \"Italiano\", \"decorator\": \"\", \"localeCode\": \"it\"}, {\"localeName\": \"Nederlands\", \"decorator\": \"\", \"localeCode\": \"nl_NL\"}, {\"localeName\": \"Norsk (bokm\\\\u00e5l)\", \"decorator\": \"\", \"localeCode\": \"nb_NO\"}, {\"localeName\": \"Polski\", \"decorator\": \"\", \"localeCode\": \"pl\"}, {\"localeName\": \"Portugu\\\\u00eas (Brasil)\", \"decorator\": \"\", \"localeCode\": \"pt_BR\"}, {\"localeName\": \"P\\\\u0443\\\\u0441\\\\u0441\\\\u043a\\\\u0438\\\\u0439\", \"decorator\": \"\", \"localeCode\": \"ru\"}, {\"localeName\": \"Svenska\", \"decorator\": \"\", \"localeCode\": \"sv_SE\"}, {\"localeName\": \"\\\\u0423\\\\u043a\\\\u0440\\\\u0430\\\\u0457\\\\u043d\\\\u0441\\\\u044c\\\\u043a\\\\u0430\", \"decorator\": \"Beta\", \"localeCode\": \"uk_UA\"}, {\"localeName\": \"\\\\u0e44\\\\u0e17\\\\u0e22\", \"decorator\": \"\", \"localeCode\": \"th_TH\"}, {\"localeName\": \"\\\\u4e2d\\\\u6587\\\\uff08\\\\u7b80\\\\u4f53\\\\uff09\", \"decorator\": \"\", \"localeCode\": \"zh_CN\"}, {\"localeName\": \"\\\\u4e2d\\\\u6587\\\\uff08\\\\u7e41\\\\u9ad4\\\\uff09\", \"decorator\": \"\", \"localeCode\": \"zh_TW\"}, {\"localeName\": \"\\\\u65e5\\\\u672c\\\\u8a9e\", \"decorator\": \"\", \"localeCode\": \"ja\"}, {\"localeName\": \"\\\\ud55c\\\\uad6d\\\\uc5b4\", \"decorator\": \"\", \"localeCode\": \"ko\"}], \"LIST_OF_LOCALES_WITH_INTERNAL\": [{\"localeName\": \"Bahasa Indonesia\", \"decorator\": \"\", \"localeCode\": \"id\"}, {\"localeName\": \"Bahasa Malaysia\", \"decorator\": \"\", \"localeCode\": \"ms\"}, {\"localeName\": \"Dansk\", \"decorator\": \"\", \"localeCode\": \"da_DK\"}, {\"localeName\": \"Deutsch\", \"decorator\": \"\", \"localeCode\": \"de\"}, {\"localeName\": \"English (United Kingdom)\", \"decorator\": \"\", \"localeCode\": \"en_GB\"}, {\"localeName\": \"English (United States)\", \"decorator\": \"\", \"localeCode\": \"en\"}, {\"localeName\": \"Espa\\\\u00f1ol (Espa\\\\u00f1a)\", \"decorator\": \"\", \"localeCode\": \"es_ES\"}, {\"localeName\": \"Espa\\\\u00f1ol (Latinoam\\\\u00e9rica)\", \"decorator\": \"\", \"localeCode\": \"es\"}, {\"localeName\": \"Fran\\\\u00e7ais\", \"decorator\": \"\", \"localeCode\": \"fr\"}, {\"localeName\": \"Italiano\", \"decorator\": \"\", \"localeCode\": \"it\"}, {\"localeName\": \"Nederlands\", \"decorator\": \"\", \"localeCode\": \"nl_NL\"}, {\"localeName\": \"Norsk (bokm\\\\u00e5l)\", \"decorator\": \"\", \"localeCode\": \"nb_NO\"}, {\"localeName\": \"Polski\", \"decorator\": \"\", \"localeCode\": \"pl\"}, {\"localeName\": \"Portugu\\\\u00eas (Brasil)\", \"decorator\": \"\", \"localeCode\": \"pt_BR\"}, {\"localeName\": \"P\\\\u0443\\\\u0441\\\\u0441\\\\u043a\\\\u0438\\\\u0439\", \"decorator\": \"\", \"localeCode\": \"ru\"}, {\"localeName\": \"Svenska\", \"decorator\": \"\", \"localeCode\": \"sv_SE\"}, {\"localeName\": \"\\\\u0423\\\\u043a\\\\u0440\\\\u0430\\\\u0457\\\\u043d\\\\u0441\\\\u044c\\\\u043a\\\\u0430\", \"decorator\": \"Beta\", \"localeCode\": \"uk_UA\"}, {\"localeName\": \"\\\\u0e44\\\\u0e17\\\\u0e22\", \"decorator\": \"\", \"localeCode\": \"th_TH\"}, {\"localeName\": \"\\\\u4e2d\\\\u6587\\\\uff08\\\\u7b80\\\\u4f53\\\\uff09\", \"decorator\": \"\", \"localeCode\": \"zh_CN\"}, {\"localeName\": \"\\\\u4e2d\\\\u6587\\\\uff08\\\\u7e41\\\\u9ad4\\\\uff09\", \"decorator\": \"\", \"localeCode\": \"zh_TW\"}, {\"localeName\": \"\\\\u65e5\\\\u672c\\\\u8a9e\", \"decorator\": \"\", \"localeCode\": \"ja\"}, {\"localeName\": \"\\\\ud55c\\\\uad6d\\\\uc5b4\", \"decorator\": \"\", \"localeCode\": \"ko\"}]};\\n        });\\n        define(\"modules/constants/static\", [], function() {\\n            return {\"static_url_video_js_swf\": \"https://flash.dropboxstatic.com/video-js-vfldg2kAU.swf\", \"static_url_web_socket_swf\": \"https://dbxlocal.dropboxstatic.com/WebSocket-vflez_6Rn.swf\"};\\n        });\\n        define(\"modules/constants/debug\", [], function() {\\n            return {\"CPROFILE_PARAMETER\": \"\", \"STORMCROW_PANEL\": 0, \"CPROFILE_ENABLED\": 0};\\n        });\\n        define(\"modules/constants/viewer\", [], function() {\\n            return {\"root_ns_id\": 0, \"prompt_ha_hiding\": true, \"PERSONAL_ROLE_STRING\": \"Personal\", \"LOCALE\": \"NZ\", \"_viewer_properties\": {\"is_reseller_session\": false, \"is_team_assume_user_session\": false, \"is_assume_user_session\": false, \"can_moderate_comments\": false, \"_user_data\": []}, \"DEFAULT_ROOT_NAME\": \"Dropbox\"};\\n        });\\n        define(\"modules/constants/unity\", [], function() {\\n            return {\"FORCE_NATIVE_WEBSOCKET\": false, \"UNITY_WEB_DESTINY_ALL_PAGES\": false, \"UNITY_WEB_DEBUG\": false};\\n        });\\n        define(\"modules/constants/request\", [], function() {\\n                var o = {\"REQUEST_START_TIME\": 1510960052903, \"LOGGED_OUT_X_DROPBOX_UID\": -1, \"REQUEST_ID\": \"7d043244700a773fe292c5a779ef161a\", \"REQUEST_TRACING_ENABLED\": false, \"IS_HTTP2\": false};\\n                /* global: ensemble is global for maestro pages */\\n                if (window.ensemble && window.ensemble.getRequestId) {\\n                    o.REQUEST_ID = ensemble.getRequestId();\\n                }\\n                return o;\\n            });\\n            define(\"modules/constants/webtiming\", [], function() {\\n            return {\"LOG_REACT_PERF_TIMING\": true, \"LOG_NON_NAVIGATION_RESOURCES\": false, \"LOG_BROWSER_PERFORMANCE_INFO\": true, \"LOG_TIMING_DELAY\": false};\\n        });\\n        </script><script type=\"text/javascript\" nonce=\"pzCh8G8ZdiJztpnfdVcz\">\\n                /* global: configureRequire comes from the\\n                   fake_require_snippet (ui/page/script_tags.py) */\\n                configureRequire({\"waitSeconds\": 30, \"map\": {\"external/jquery_bundle/jquery_bundle\": {\"__real_external/jquery_security_patch_bundle\": \"external/jquery_security_patch_bundle\", \"external/jquery_security_patch_bundle\": \"external/jquery_security_patch_bundle\"}, \"*\": {\"external/react-dnd-scrollzone\": \"external/react-dnd-scrollzone-3.0.0\", \"external/reselect\": \"Reselect\", \"external/react-dnd\": \"external/react-dnd-2.1.4\", \"external/tslib\": \"tslib\", \"langpack\": \"json_loader!compiled/js/langpack/en.json\", \"external/immutable\": \"external/immutable-3\", \"external/redux-thunk\": \"external/redux-thunk-2.1.0\", \"external/react-dom/server\": \"external/react-dom/server-15.5.4-prod\", \"external/sjcl\": \"external/sjcl-1.0.3\", \"__real_jquery\": \"jquery\", \"external/videojs/video\": \"external/videojs/video-6.2.8\", \"external/history\": \"external/history-3.3.0\", \"external/react\": \"external/react-15.5.4-prod\", \"external/create-react-class\": \"external/create-react-class-shim\", \"external/react-redux\": \"external/react-redux-3.1.0\", \"external/highlight.pack\": \"hljs\", \"__real_external/jquery_security_patch_bundle\": \"external/jquery_security_patch_bundle\", \"external/react-router\": \"external/react-router-2.0.0\", \"external/moment\": \"moment\", \"external/react-dom/test-utils\": \"external/react-dom/test-utils-shim\", \"external/react-dom\": \"external/react-dom-15.5.4-prod\", \"external/reflux\": \"external/reflux-0.3.0\", \"__real_external/tracekit\": \"TraceKit\", \"react\": \"external/react-15.5.4-prod\", \"TraceKit\": \"modules/shims/tracekit\", \"external/tracekit\": \"modules/shims/tracekit\", \"jquery\": \"external/jquery_bundle/jquery_bundle\", \"external/jquery_security_patch_bundle\": \"external/jquery_bundle/jquery_bundle\", \"external/jquery\": \"external/jquery_bundle/jquery_bundle\", \"external/underscore\": \"underscore\", \"external/braintree\": \"braintree\", \"react-dom\": \"external/react-dom-15.5.4-prod\", \"external/typeahead.jquery\": \"typeahead.jquery\", \"external/classnames\": \"classnames\", \"external/react-dnd-html5-backend\": \"external/react-dnd-html5-backend-2.1.2\", \"external/bloodhound\": \"bloodhound\", \"external/redux\": \"external/redux-3.6.0-prod\", \"redux\": \"external/redux-3.6.0-prod\"}, \"modules/shims/tracekit\": {\"external/tracekit\": \"TraceKit\", \"__real_external/tracekit\": \"TraceKit\"}}, \"shim\": {}, \"bundles\": {\"pkg-calendar\": [\"modules/clean/profile_services/auth_callback_handler\"], \"pkg-xhr-client\": [\"modules/core/xhr\", \"modules/core/cookies\"], \"pkg-lasso-footer\": [\"modules/clean/react/locale_selector\"], \"pkg-external\": [\"underscore\", \"external/hoist-non-react-statics\", \"tslib\", \"external/purify\", \"external/sjcl-1.0.3\", \"external/flux\", \"classnames\"], \"pkg-i18n\": [\"external/sha1\", \"modules/core/i18n\", \"modules/clean/validators/validators\"], \"pkg-coreui-with-i18n\": [\"modules/clean/cookie_check\", \"modules/clean/react/modal\"], \"pkg-timing\": [\"modules/clean/perf_tools/resource_utils\", \"modules/clean/js_client_stopwatch\", \"modules/clean/perf_tools/browser_perf_utils\", \"modules/clean/js_basic_stopwatch\", \"modules/clean/perf_tools/web_timing_utils\", \"modules/clean/loggers/cache_logger\", \"modules/clean/window_util\", \"modules/clean/react_perf_logger\", \"modules/clean/web_module_timing\", \"modules/clean/web_timing_logger\", \"modules/clean/perf_tools/web_timing_logger_types\"], \"pkg-react-15.5.4-prod\": [\"external/react-dom-15.5.4-prod\", \"external/react-15.5.4-prod\"], \"pkg-misc\": [\"modules/clean/legacy_pyxl_controllers/bubble_dropdown\", \"modules/clean/legacy_pyxl_controllers/input\"], \"pkg-legacy-ab\": [\"modules/clean/captcha\", \"modules/clean/form_util/name_parser\", \"modules/clean/legacy_pyxl_controllers/login_form\", \"modules/clean/register_form\", \"modules/clean/sso_login_checks\", \"modules/clean/react/recaptcha_challenge\", \"modules/clean/legacy_ui_button\", \"modules/clean/mailcheck\", \"modules/clean/legacy_pyxl_controllers/tooltip\", \"modules/clean/legacy_pyxl_controllers/login_or_register\", \"modules/clean/marketing_tracker\"], \"pkg-coreui-forms\": [\"modules/clean/react/input\", \"modules/clean/react/form_error_mixin\"], \"pkg-profile_services\": [\"modules/clean/profile_services/popup_handler\", \"modules/clean/profile_services/profile_services_constants\", \"modules/clean/profile_services/profile_services_link\"], \"pkg-core\": [\"modules/clean/devtools/perf_hub_action_types\", \"modules/core/uri\", \"modules/clean/devtools/perf_hub_actions\", \"modules/clean/em_string\", \"modules/clean/ux_analytics\", \"modules/clean/dbmodal_stack\", \"modules/clean/ajax\", \"modules/core/notify\", \"modules/clean/storage\", \"modules/clean/job_progress\", \"modules/core/accessible_announce\", \"modules/clean/event_load\", \"modules/clean/css\", \"modules/clean/stormcrow/stormcrow_panel_action_types\", \"modules/clean/viewer\", \"modules/clean/undo\", \"modules/clean/js_environment\", \"modules/clean/user\", \"modules/clean/keycode\", \"modules/clean/flux/dispatcher\", \"modules/clean/stormcrow/stormcrow_panel_actions\", \"modules/core/dom\", \"modules/clean/analytics\", \"modules/core/browser\", \"modules/clean/filepath\", \"modules/core/html\", \"modules/clean/static_urls\"], \"pkg-prompt\": [\"modules/core/controller_registry\", \"modules/clean/legacy_pyxl_controllers/ajax_form\", \"modules/core/controller_helpers\"], \"pkg-exception-reporting\": [\"modules/core/exception_tag_registry\", \"TraceKit\", \"modules/shims/tracekit\", \"modules/pagelet_config\", \"modules/core/exception\"], \"pkg-coreui\": [\"modules/clean/react/button\", \"modules/clean/react/css\", \"modules/clean/init_react\", \"modules/clean/react/sprite\"], \"pkg-unity\": [\"modules/clean/unity/flash_config\", \"modules/clean/unity/websocket_config\", \"modules/clean/unity/features\", \"modules/clean/unity/connection\", \"modules/clean/unity/web_socket\", \"modules/clean/unity/logger\", \"modules/clean/unity/versions\", \"modules/clean/unity/connection_error\"]}, \"baseUrl\": \"https://cfl.dropboxstatic.com/static/\", \"paths\": {\"pkg-calendar\": \"compiled/js/packaged/pkg-calendar.min-vflaLImuI\", \"pkg-xhr-client\": \"compiled/js/packaged/pkg-xhr-client.min-vfl3lmCvu\", \"pkg-external\": \"compiled/js/packaged/pkg-external.min-vfltyqAUh\", \"external/create-react-class-shim\": \"compiled/js/external/create-react-class-shim.min-vfl82nDw6\", \"pkg-react-15.5.4-prod\": \"compiled/js/packaged/pkg-react-15.5.4-prod.min-vflVLIAJV\", \"pkg-legacy-ab\": \"compiled/js/packaged/pkg-legacy-ab.min-vflAkJdov\", \"modules/clean/auth/cyfd_init\": \"compiled/js/modules/clean/auth/cyfd_init.min-vfl4IyrLD\", \"pkg-i18n\": \"compiled/js/packaged/pkg-i18n.min-vflyOiNJV\", \"pkg-coreui-forms\": \"compiled/js/packaged/pkg-coreui-forms.min-vflTAsi3m\", \"pkg-timing\": \"compiled/js/packaged/pkg-timing.min-vflBy3tkW\", \"pkg-lasso-footer\": \"compiled/js/packaged/pkg-lasso-footer.min-vflaJ0DfF\", \"pkg-core\": \"compiled/js/packaged/pkg-core.min-vfl6tiYha\", \"pkg-prompt\": \"compiled/js/packaged/pkg-prompt.min-vflI1Cdv4\", \"pkg-coreui\": \"compiled/js/packaged/pkg-coreui.min-vflhxS0Pt\", \"modules/clean/hi_res\": \"compiled/js/modules/clean/hi_res.min-vfla16lnf\", \"external/pixie\": \"compiled/js/external/pixie.min-vflMGHwsI\", \"external/web_socket\": \"compiled/js/external/web_socket.min-vflbBmFMw\", \"external/zxcvbn\": \"compiled/js/external/zxcvbn.min-vflXrsFxo\", \"external/u2f-api\": \"compiled/js/external/u2f-api.min-vflHi1vKQ\", \"pkg-misc\": \"compiled/js/packaged/pkg-misc.min-vfllKoDox\", \"pkg-profile_services\": \"compiled/js/packaged/pkg-profile_services.min-vflvrBjr0\", \"pkg-exception-reporting\": \"compiled/js/packaged/pkg-exception-reporting.min-vflqH1MWC\", \"modules/clean/accessibility/tabbable\": \"compiled/js/modules/clean/accessibility/tabbable.min-vfl-JKEFx\", \"external/cyfd\": \"compiled/js/external/cyfd.min-vflpIHoJf\", \"modules/clean/unity/features/web_destiny_ui\": \"compiled/js/modules/clean/unity/features/web_destiny_ui.min-vflipTl1h\", \"compiled/js/langpack/en.json\": \"compiled/js/langpack/en.json?17487\", \"pkg-coreui-with-i18n\": \"compiled/js/packaged/pkg-coreui-with-i18n.min-vflc5X6aV\", \"external/u2f-legacy\": \"compiled/js/external/u2f-legacy.min-vfl5s21BM\", \"modules/clean/unity/features/web_destiny\": \"compiled/js/modules/clean/unity/features/web_destiny.min-vflu4fEcy\", \"external/flash_detect\": \"compiled/js/external/flash_detect.min-vflZv8sIZ\", \"external/jquery_bundle/jquery_bundle\": \"compiled/js/external/jquery_bundle/jquery_bundle.min-vflm5CAk7\", \"external/swfobject\": \"compiled/js/external/swfobject.min-vflmPhe7h\", \"pkg-unity\": \"compiled/js/packaged/pkg-unity.min-vflQc97W8\"}}, {\"reusingContext\": false, \"reusingJquery\": false, \"deferJsTimeout\": null, \"requireFallbackBaseUrl\": \"https://www.dropboxstatic.com/static/\", \"deferJs\": false}, [[[[\"external/react\"], (function(React){\\nwindow.React = React;;\\n}), \"require-tier-react-element-set-global\"],[[\"jquery\", \"modules/core/controller_registry\", \"modules/clean/legacy_pyxl_controllers/bubble_dropdown\", \"modules/clean/hi_res\", \"modules/clean/register_form\", \"modules/clean/legacy_pyxl_controllers/input\", \"modules/clean/legacy_pyxl_controllers/login_or_register\", \"modules/clean/legacy_pyxl_controllers/login_form\", \"modules/clean/legacy_pyxl_controllers/tooltip\", \"modules/clean/perf_tools/resource_utils\", \"modules/clean/devtools/perf_hub_action_types\", \"external/sjcl\", \"modules/clean/auth/cyfd_init\", \"modules/clean/captcha\", \"modules/core/uri\", \"external/create-react-class\", \"modules/clean/js_client_stopwatch\", \"modules/clean/devtools/perf_hub_actions\", \"modules/clean/em_string\", \"modules/constants/page_load\", \"modules/constants/debug\", \"modules/clean/form_util/name_parser\", \"modules/clean/dbmodal_stack\", \"modules/clean/accessibility/tabbable\", \"external/underscore\", \"modules/clean/legacy_pyxl_controllers/ajax_form\", \"modules/clean/ajax\", \"modules/core/notify\", \"modules/clean/js_basic_stopwatch\", \"modules/core/exception_tag_registry\", \"modules/clean/storage\", \"modules/clean/job_progress\", \"modules/clean/profile_services/popup_handler\", \"external/tslib\", \"modules/clean/react/input\", \"modules/core/accessible_announce\", \"modules/constants/viewer\", \"modules/clean/perf_tools/web_timing_utils\", \"modules/clean/event_load\", \"modules/clean/css\", \"modules/clean/stormcrow/stormcrow_panel_action_types\", \"modules/clean/sso_login_checks\", \"TraceKit\", \"modules/clean/viewer\", \"modules/core/controller_helpers\", \"external/sha1\", \"external/cyfd\", \"modules/clean/react/form_error_mixin\", \"modules/clean/react/recaptcha_challenge\", \"modules/clean/undo\", \"modules/clean/loggers/cache_logger\", \"modules/constants/login_and_register\", \"modules/clean/init_react\", \"modules/core/xhr\", \"langpack\", \"modules/constants/pixie\", \"modules/clean/user\", \"modules/clean/mailcheck\", \"modules/clean/profile_services/profile_services_constants\", \"modules/clean/window_util\", \"modules/clean/keycode\", \"modules/pagelet_config\", \"external/purify\", \"modules/clean/react_perf_logger\", \"external/u2f-api\", \"modules/constants/env\", \"modules/core/exception\", \"modules/clean/web_module_timing\", \"modules/clean/flux/dispatcher\", \"external/classnames\", \"modules/clean/react/sprite\", \"modules/constants/ajax_strings\", \"modules/clean/stormcrow/stormcrow_panel_actions\", \"modules/constants/undo_strings\", \"modules/clean/profile_services/profile_services_link\", \"modules/core/i18n\", \"modules/constants/request\", \"modules/core/dom\", \"modules/clean/validators/validators\", \"modules/clean/perf_tools/browser_perf_utils\", \"modules/core/cookies\", \"external/flux\", \"external/pixie\", \"__real_external/tracekit\", \"react\", \"modules/clean/analytics\", \"modules/core/browser\", \"modules/clean/profile_services/auth_callback_handler\", \"react-dom\", \"external/u2f-legacy\", \"modules/clean/web_timing_logger\", \"modules/core/html\", \"modules/clean/perf_tools/web_timing_logger_types\", \"modules/clean/static_urls\", \"modules/constants/webtiming\"], (function(jquery,modules__core__controller_registry,modules__clean__legacy_pyxl_controllers__bubble_dropdown,modules__clean__hi_res,modules__clean__register_form,modules__clean__legacy_pyxl_controllers__input,modules__clean__legacy_pyxl_controllers__login_or_register,modules__clean__legacy_pyxl_controllers__login_form,modules__clean__legacy_pyxl_controllers__tooltip){\\n(function (m, ControllerRegistry) { ControllerRegistry.register_controller(\"component2952092768776722955\", m, [\"left\", false, null, null, null, null]); })(modules__clean__legacy_pyxl_controllers__bubble_dropdown, modules__core__controller_registry);\\n(function (m, ControllerRegistry) { ControllerRegistry.register_controller(\"component2952092768776722954\", m.PasswordWatchInput, [null]); })(modules__clean__legacy_pyxl_controllers__input, modules__core__controller_registry);\\n(function (m, ControllerRegistry) { ControllerRegistry.register_controller(\"component2952092768776722951\", m.TextInput, []); })(modules__clean__legacy_pyxl_controllers__input, modules__core__controller_registry);\\n(function (m, ControllerRegistry) { ControllerRegistry.register_controller(\"component2952092768776722948\", m.TextInput, []); })(modules__clean__legacy_pyxl_controllers__input, modules__core__controller_registry);\\n(function (m, ControllerRegistry) { ControllerRegistry.register_controller(\"component2952092768776722945\", m.TextInput, []); })(modules__clean__legacy_pyxl_controllers__input, modules__core__controller_registry);\\n(function (ControllerRegistry, m) { ControllerRegistry.register_controller(\"component2952092768776722942\", m.RegisterForm, [\"standard\", true, true, true, null, false, false, \"login\"]); })(modules__core__controller_registry, modules__clean__register_form);\\n(function (ControllerRegistry, m) { ControllerRegistry.register_controller(\"component2952092768776722941\", m.InfoTooltip, [null, \"top\"]); })(modules__core__controller_registry, modules__clean__legacy_pyxl_controllers__tooltip);\\n(function (m, ControllerRegistry) { ControllerRegistry.register_controller(\"component2952092768776722939\", m.TextInput, []); })(modules__clean__legacy_pyxl_controllers__input, modules__core__controller_registry);\\n(function (ControllerRegistry, m) { ControllerRegistry.register_controller(\"component2952092768776722936\", m.InfoTooltip, [null, \"top\"]); })(modules__core__controller_registry, modules__clean__legacy_pyxl_controllers__tooltip);\\n(function (m, ControllerRegistry) { ControllerRegistry.register_controller(\"component2952092768776722934\", m.TextInput, []); })(modules__clean__legacy_pyxl_controllers__input, modules__core__controller_registry);\\n(function (m, ControllerRegistry) { ControllerRegistry.register_controller(\"component2952092768776722931\", m, []); })(modules__clean__hi_res, modules__core__controller_registry);\\n(function (m, ControllerRegistry) { ControllerRegistry.register_controller(\"component2952092768776722930\", m, []); })(modules__clean__hi_res, modules__core__controller_registry);\\n(function (m, ControllerRegistry) { ControllerRegistry.register_controller(\"component2952092768776722929\", m, []); })(modules__clean__hi_res, modules__core__controller_registry);\\n(function (m, ControllerRegistry) { ControllerRegistry.register_controller(\"component2952092768776722927\", m.PasswordInput, []); })(modules__clean__legacy_pyxl_controllers__input, modules__core__controller_registry);\\n(function (m, ControllerRegistry) { ControllerRegistry.register_controller(\"component2952092768776722924\", m.TextInput, []); })(modules__clean__legacy_pyxl_controllers__input, modules__core__controller_registry);\\n(function (m, ControllerRegistry) { ControllerRegistry.register_controller(\"component2952092768776722921\", m, []); })(modules__clean__legacy_pyxl_controllers__login_form, modules__core__controller_registry);\\n(function (m, ControllerRegistry) { ControllerRegistry.register_controller(\"component2952092768776722918\", m, []); })(modules__clean__hi_res, modules__core__controller_registry);\\n(function ($j, LoginOrRegister) { new LoginOrRegister($j(\"#pyxl2952092768776722919\")); })(jquery, modules__clean__legacy_pyxl_controllers__login_or_register);\\n}), \"require-tier-controller-registry\"],[[\"modules/clean/accessibility/tabbable\"], (function(mod){\\nvar init = mod.initialize_module; if (init != null){init();};\\n}), \"require-tier-require-and-configure-modules/clean/accessibility/tabbable\"],[[\"modules/clean/cookie_check\"], (function(mod){\\nvar init = mod.initialize_module; if (init != null){init();};\\n}), \"require-tier-require-and-configure-modules/clean/cookie_check\"],[[\"modules/clean/legacy_ui_button\"], (function(initUIButtons){\\n\\n            initUIButtons();\\n            ;\\n}), \"\"],[[\"modules/clean/marketing_tracker\"], (function(MarketingTracker){\\nMarketingTracker.MarketingTracker.push({src: \"https://marketing.dropbox.com/login?referrer=\", dataLayer: {\"event\": \"dataReady\", \"session_id\": \"AABukQEHR4fIRzqpaLRRW3-STxITcVYk8yLqxS89Gf8mgA\"}});;\\n}), \"\"],[[\"modules/clean/react/locale_selector\", \"modules/clean/init_react\", \"modules/clean/react/modal\", \"modules/clean/js_environment\", \"modules/constants/locales\", \"modules/clean/react/css\", \"modules/clean/react/button\", \"external/hoist-non-react-statics\"], (function(mod,InitReact){\\nInitReact.mountComponent(mod, {\"module_name\": \"modules/clean/react/locale_selector\", \"install_hot_reloading_attrs\": false, \"props\": {\"controller\": \"LocaleSelector\", \"module\": \"modules/clean/react/locale_selector\"}, \"elem_id\": \"component2952092768776722957\", \"component_name\": \"LocaleSelector\"});\\n}), \"require-tier-init_react_modules/clean/react/locale_selector-LocaleSelector\"],[[\"modules/clean/ux_analytics\"], (function(uxanalytics){\\nuxanalytics.UXAnalytics.resetStorage();\\n}), \"\"],[[\"modules/clean/ux_analytics\", \"modules/clean/analytics\"], (function(uxanalytics,analytics){\\nnew uxanalytics.UXAnalytics(\"7d043244700a773fe292c5a779ef161a\", \"\", analytics.UXAnalyticsLogger, {});;\\n}), \"\"],[[\"modules/clean/web_timing_logger\"], (function(mod){\\nmod.initialize_module({\"ttv_at_dom_interactive\": false, \"subtypes\": null, \"is_pagelet\": false, \"source_type\": \"web\", \"tti_at_dom_interactive\": false, \"log_time_to_interactive\": false, \"is_dws\": false, \"log_time_to_view\": false, \"is_early_ensemble\": false});\\n}), \"require-tier-require-and-configure-modules/clean/web_timing_logger\"]]]);\\n                </script><img src=\"https://dropbox.com/hstsping\" alt=\"\" style=\"display:none;\" /><script type=\"text/javascript\" nonce=\"pzCh8G8ZdiJztpnfdVcz\">\\n        document.addEventListener(\\'DOMContentLoaded\\', function () {\\n                var metaTag = document.createElement(\\'meta\\');\\n                    metaTag.setAttribute(\\'http-equiv\\', \\'Content-Security-Policy\\');\\n                    metaTag.setAttribute(\\'content\\', \"script-src https: \\'unsafe-eval\\' https://cfl.dropboxstatic.com/static/compiled/js/ https://www.dropboxstatic.com/static/compiled/js/ https://cfl.dropboxstatic.com/static/javascript/ https://www.dropboxstatic.com/static/javascript/; worker-src blob:\");\\n                    document.head.appendChild(metaTag);\\n        });</script><div id=\"accessible-announce\" class=\"ax-visually-hidden\" aria-live=\"assertive\"></div></body></html>'"
      ]
     },
     "execution_count": 13,
     "metadata": {},
     "output_type": "execute_result"
    }
   ],
   "source": [
    "data"
   ]
  },
  {
   "cell_type": "code",
   "execution_count": 11,
   "metadata": {
    "collapsed": false
   },
   "outputs": [
    {
     "ename": "FileNotFoundError",
     "evalue": "[Errno 2] No such file or directory: '2017_09_16-12_24.xlsx'",
     "traceback": [
      "\u001b[0;31m---------------------------------------------------------------------------\u001b[0m",
      "\u001b[0;31mFileNotFoundError\u001b[0m                         Traceback (most recent call last)",
      "\u001b[0;32m<ipython-input-11-14eb1f07d914>\u001b[0m in \u001b[0;36m<module>\u001b[0;34m()\u001b[0m\n\u001b[1;32m      1\u001b[0m \u001b[0;32mimport\u001b[0m \u001b[0mpandas\u001b[0m \u001b[0;32mas\u001b[0m \u001b[0mpd\u001b[0m\u001b[0;34m\u001b[0m\u001b[0m\n\u001b[1;32m      2\u001b[0m \u001b[0mdbx\u001b[0m\u001b[0;34m.\u001b[0m\u001b[0mfiles_download\u001b[0m\u001b[0;34m(\u001b[0m\u001b[0mpath\u001b[0m\u001b[0;34m=\u001b[0m\u001b[0;34m\"/Apps/GlassdoorToget/2017_09_16-12_24.xlsx\"\u001b[0m\u001b[0;34m)\u001b[0m\u001b[0;34m\u001b[0m\u001b[0m\n\u001b[0;32m----> 3\u001b[0;31m \u001b[0mblou\u001b[0m \u001b[0;34m=\u001b[0m \u001b[0mpd\u001b[0m\u001b[0;34m.\u001b[0m\u001b[0mread_excel\u001b[0m\u001b[0;34m(\u001b[0m\u001b[0;34m\"2017_09_16-12_24.xlsx\"\u001b[0m\u001b[0;34m)\u001b[0m\u001b[0;34m\u001b[0m\u001b[0m\n\u001b[0m",
      "\u001b[0;32m/Users/dereksnow/anaconda/envs/py36/lib/python3.6/site-packages/pandas/io/excel.py\u001b[0m in \u001b[0;36mread_excel\u001b[0;34m(io, sheetname, header, skiprows, skip_footer, index_col, names, parse_cols, parse_dates, date_parser, na_values, thousands, convert_float, has_index_names, converters, dtype, true_values, false_values, engine, squeeze, **kwds)\u001b[0m\n\u001b[1;32m    201\u001b[0m \u001b[0;34m\u001b[0m\u001b[0m\n\u001b[1;32m    202\u001b[0m     \u001b[0;32mif\u001b[0m \u001b[0;32mnot\u001b[0m \u001b[0misinstance\u001b[0m\u001b[0;34m(\u001b[0m\u001b[0mio\u001b[0m\u001b[0;34m,\u001b[0m \u001b[0mExcelFile\u001b[0m\u001b[0;34m)\u001b[0m\u001b[0;34m:\u001b[0m\u001b[0;34m\u001b[0m\u001b[0m\n\u001b[0;32m--> 203\u001b[0;31m         \u001b[0mio\u001b[0m \u001b[0;34m=\u001b[0m \u001b[0mExcelFile\u001b[0m\u001b[0;34m(\u001b[0m\u001b[0mio\u001b[0m\u001b[0;34m,\u001b[0m \u001b[0mengine\u001b[0m\u001b[0;34m=\u001b[0m\u001b[0mengine\u001b[0m\u001b[0;34m)\u001b[0m\u001b[0;34m\u001b[0m\u001b[0m\n\u001b[0m\u001b[1;32m    204\u001b[0m \u001b[0;34m\u001b[0m\u001b[0m\n\u001b[1;32m    205\u001b[0m     return io._parse_excel(\n",
      "\u001b[0;32m/Users/dereksnow/anaconda/envs/py36/lib/python3.6/site-packages/pandas/io/excel.py\u001b[0m in \u001b[0;36m__init__\u001b[0;34m(self, io, **kwds)\u001b[0m\n\u001b[1;32m    258\u001b[0m             \u001b[0mself\u001b[0m\u001b[0;34m.\u001b[0m\u001b[0mbook\u001b[0m \u001b[0;34m=\u001b[0m \u001b[0mxlrd\u001b[0m\u001b[0;34m.\u001b[0m\u001b[0mopen_workbook\u001b[0m\u001b[0;34m(\u001b[0m\u001b[0mfile_contents\u001b[0m\u001b[0;34m=\u001b[0m\u001b[0mdata\u001b[0m\u001b[0;34m)\u001b[0m\u001b[0;34m\u001b[0m\u001b[0m\n\u001b[1;32m    259\u001b[0m         \u001b[0;32melif\u001b[0m \u001b[0misinstance\u001b[0m\u001b[0;34m(\u001b[0m\u001b[0mio\u001b[0m\u001b[0;34m,\u001b[0m \u001b[0mcompat\u001b[0m\u001b[0;34m.\u001b[0m\u001b[0mstring_types\u001b[0m\u001b[0;34m)\u001b[0m\u001b[0;34m:\u001b[0m\u001b[0;34m\u001b[0m\u001b[0m\n\u001b[0;32m--> 260\u001b[0;31m             \u001b[0mself\u001b[0m\u001b[0;34m.\u001b[0m\u001b[0mbook\u001b[0m \u001b[0;34m=\u001b[0m \u001b[0mxlrd\u001b[0m\u001b[0;34m.\u001b[0m\u001b[0mopen_workbook\u001b[0m\u001b[0;34m(\u001b[0m\u001b[0mio\u001b[0m\u001b[0;34m)\u001b[0m\u001b[0;34m\u001b[0m\u001b[0m\n\u001b[0m\u001b[1;32m    261\u001b[0m         \u001b[0;32melse\u001b[0m\u001b[0;34m:\u001b[0m\u001b[0;34m\u001b[0m\u001b[0m\n\u001b[1;32m    262\u001b[0m             raise ValueError('Must explicitly set engine if not passing in'\n",
      "\u001b[0;32m/Users/dereksnow/anaconda/envs/py36/lib/python3.6/site-packages/xlrd/__init__.py\u001b[0m in \u001b[0;36mopen_workbook\u001b[0;34m(filename, logfile, verbosity, use_mmap, file_contents, encoding_override, formatting_info, on_demand, ragged_rows)\u001b[0m\n\u001b[1;32m    393\u001b[0m         \u001b[0mpeek\u001b[0m \u001b[0;34m=\u001b[0m \u001b[0mfile_contents\u001b[0m\u001b[0;34m[\u001b[0m\u001b[0;34m:\u001b[0m\u001b[0mpeeksz\u001b[0m\u001b[0;34m]\u001b[0m\u001b[0;34m\u001b[0m\u001b[0m\n\u001b[1;32m    394\u001b[0m     \u001b[0;32melse\u001b[0m\u001b[0;34m:\u001b[0m\u001b[0;34m\u001b[0m\u001b[0m\n\u001b[0;32m--> 395\u001b[0;31m         \u001b[0;32mwith\u001b[0m \u001b[0mopen\u001b[0m\u001b[0;34m(\u001b[0m\u001b[0mfilename\u001b[0m\u001b[0;34m,\u001b[0m \u001b[0;34m\"rb\"\u001b[0m\u001b[0;34m)\u001b[0m \u001b[0;32mas\u001b[0m \u001b[0mf\u001b[0m\u001b[0;34m:\u001b[0m\u001b[0;34m\u001b[0m\u001b[0m\n\u001b[0m\u001b[1;32m    396\u001b[0m             \u001b[0mpeek\u001b[0m \u001b[0;34m=\u001b[0m \u001b[0mf\u001b[0m\u001b[0;34m.\u001b[0m\u001b[0mread\u001b[0m\u001b[0;34m(\u001b[0m\u001b[0mpeeksz\u001b[0m\u001b[0;34m)\u001b[0m\u001b[0;34m\u001b[0m\u001b[0m\n\u001b[1;32m    397\u001b[0m     \u001b[0;32mif\u001b[0m \u001b[0mpeek\u001b[0m \u001b[0;34m==\u001b[0m \u001b[0;34mb\"PK\\x03\\x04\"\u001b[0m\u001b[0;34m:\u001b[0m \u001b[0;31m# a ZIP file\u001b[0m\u001b[0;34m\u001b[0m\u001b[0m\n",
      "\u001b[0;31mFileNotFoundError\u001b[0m: [Errno 2] No such file or directory: '2017_09_16-12_24.xlsx'"
     ],
     "output_type": "error"
    }
   ],
   "source": [
    "import pandas as pd\n",
    "dbx.files_download(path=\"/Apps/GlassdoorToget/2017_09_16-12_24.xlsx\")\n",
    "blou = pd.read_excel(\"2017_09_16-12_24.xlsx\")a\n"
   ]
  },
  {
   "cell_type": "code",
   "execution_count": 7,
   "metadata": {
    "collapsed": false
   },
   "outputs": [
    {
     "data": {
      "text/plain": [
       "(FileMetadata(name='2017_09_16-12_24.xlsx', id='id:95itY7wtAGAAAAAAAAABrw', client_modified=datetime.datetime(2017, 9, 16, 1, 24, 19), server_modified=datetime.datetime(2017, 9, 16, 1, 24, 19), rev='1e748a8c4f8', size=82692, path_lower='/apps/glassdoortoget/2017_09_16-12_24.xlsx', path_display='/Apps/GlassdoorToget/2017_09_16-12_24.xlsx', parent_shared_folder_id=None, media_info=None, sharing_info=None, property_groups=None, has_explicit_shared_members=None, content_hash='82839d33b89b02d95b17272234c493dfdf5eafcce8cbd1060a936a8a195e0a26'),\n",
       " <Response [200]>)"
      ]
     },
     "execution_count": 7,
     "metadata": {},
     "output_type": "execute_result"
    }
   ],
   "source": [
    "blou"
   ]
  },
  {
   "cell_type": "code",
   "execution_count": 5,
   "metadata": {
    "collapsed": false
   },
   "outputs": [
    {
     "data": {
      "text/plain": [
       "ListFoldersResult(entries=[], cursor=None)"
      ]
     },
     "execution_count": 5,
     "metadata": {},
     "output_type": "execute_result"
    }
   ],
   "source": [
    "dbx.sharing_list_folders()"
   ]
  },
  {
   "cell_type": "code",
   "execution_count": null,
   "metadata": {
    "collapsed": true
   },
   "outputs": [],
   "source": []
  }
 ],
 "metadata": {
  "kernelspec": {
   "display_name": "py36",
   "language": "python",
   "name": "py36"
  },
  "language_info": {
   "codemirror_mode": {
    "name": "ipython",
    "version": 3
   },
   "file_extension": ".py",
   "mimetype": "text/x-python",
   "name": "python",
   "nbconvert_exporter": "python",
   "pygments_lexer": "ipython3",
   "version": "3.6.0"
  }
 },
 "nbformat": 4,
 "nbformat_minor": 2
}
