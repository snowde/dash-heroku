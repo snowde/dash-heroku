{
 "cells": [
  {
   "cell_type": "code",
   "execution_count": null,
   "metadata": {},
   "outputs": [],
   "source": [
    "glassdoor_m = glassdoor_m.sort_values(\"Review Date\", ascending=True)\n",
    "\n",
    "glassdoor_m[\"roll25\"] = pd.rolling_mean(glassdoor_m[\"Rating\"],25)\n",
    "glassdoor_m[\"roll100\"] = pd.rolling_mean(glassdoor_m[\"Rating\"],100)\n",
    "glassdoor_m[\"roll250\"] = pd.rolling_mean(glassdoor_m[\"Rating\"],250)\n",
    "\n",
    "glassdoor_m[\"roll100\"] = glassdoor_m[\"roll100\"].fillna(glassdoor_m[\"roll25\"])\n",
    "glassdoor_m[\"roll250\"] = glassdoor_m[\"roll250\"].fillna(glassdoor_m[\"roll100\"])\n",
    "glassdoor_m[\"roll250\"] = glassdoor_m[\"roll250\"].fillna(glassdoor_m[\"roll25\"])\n",
    "\n",
    "glassdoor_m = glassdoor_m.sort_values(\"Review Date\", ascending=False)\n",
    "\n",
    "glassdoor_m[\"special_25\"] = pd.rolling_mean(glassdoor_m[\"Rating\"],25)\n",
    "\n",
    "glassdoor_m[\"special_25\"] = glassdoor_m[\"special_25\"]*.80 + glassdoor_m[\"Rating\"]*.10\n",
    "# Left 10% out here, that is okay I assume. \n",
    "\n",
    "glassdoor_m[\"roll100\"] = glassdoor_m[\"roll100\"].fillna(glassdoor_m[\"special_25\"])\n",
    "glassdoor_m[\"roll25\"] = glassdoor_m[\"roll25\"].fillna(glassdoor_m[\"special_25\"])\n",
    "glassdoor_m[\"roll250\"] = glassdoor_m[\"roll250\"].fillna(glassdoor_m[\"special_25\"])\n",
    "\n",
    "glassdoor_m = glassdoor_m.sort_values(\"Review Date\", ascending=True)\n",
    "\n",
    "glassdoor_m[\"final_rating\"] = glassdoor_m[\"roll25\"]*.60 + glassdoor_m[\"roll100\"] *.30 + glassdoor_m[\"roll100\"] *.10"
   ]
  }
 ],
 "metadata": {
  "kernelspec": {
   "display_name": "py36",
   "language": "python",
   "name": "py36"
  },
  "language_info": {
   "codemirror_mode": {
    "name": "ipython",
    "version": 3
   },
   "file_extension": ".py",
   "mimetype": "text/x-python",
   "name": "python",
   "nbconvert_exporter": "python",
   "pygments_lexer": "ipython3",
   "version": "3.6.3"
  }
 },
 "nbformat": 4,
 "nbformat_minor": 2
}
